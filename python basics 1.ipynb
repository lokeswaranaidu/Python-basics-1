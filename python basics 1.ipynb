{
 "cells": [
  {
   "cell_type": "code",
   "execution_count": 3,
   "metadata": {},
   "outputs": [
    {
     "name": "stdout",
     "output_type": "stream",
     "text": [
      "x is greter than 5\n"
     ]
    }
   ],
   "source": [
    "x=10\n",
    "if x>5:\n",
    "    print(\"x is greter than 5\")\n",
    "else:\n",
    "    print(\"x is not greter than 5\")\n"
   ]
  },
  {
   "cell_type": "code",
   "execution_count": 2,
   "metadata": {},
   "outputs": [
    {
     "name": "stdout",
     "output_type": "stream",
     "text": [
      "y is between 10 and 19\n"
     ]
    }
   ],
   "source": [
    "y=15\n",
    "if y<10:\n",
    "    print(\"y is less than 10\")\n",
    "elif y>=10 and y<20:\n",
    "    print(\"y is between 10 and 19\")\n",
    "else:\n",
    "    print(\"y is 20 or greter\")"
   ]
  },
  {
   "cell_type": "code",
   "execution_count": 4,
   "metadata": {},
   "outputs": [
    {
     "name": "stdout",
     "output_type": "stream",
     "text": [
      "banana in the list\n"
     ]
    }
   ],
   "source": [
    "fruits=['banana','apple','orange']\n",
    "if 'banana' in fruits:\n",
    "    print(\"banana in the list\")\n",
    "else:\n",
    "    print(\"banana not in the list\")\n"
   ]
  },
  {
   "cell_type": "code",
   "execution_count": null,
   "metadata": {},
   "outputs": [],
   "source": [
    "Nested if statement"
   ]
  },
  {
   "cell_type": "code",
   "execution_count": 12,
   "metadata": {},
   "outputs": [
    {
     "name": "stdout",
     "output_type": "stream",
     "text": [
      "+ve even number\n"
     ]
    }
   ],
   "source": [
    "num=int(input(\"Enter any number\"))\n",
    "if num>0:\n",
    "    if num%2==0:\n",
    "        print(\"+ve even number\")\n",
    "    else:\n",
    "        print(\"+ve odd number\")\n",
    "elif num==0:\n",
    "    print(\"zero\")"
   ]
  },
  {
   "cell_type": "code",
   "execution_count": 13,
   "metadata": {},
   "outputs": [
    {
     "name": "stdout",
     "output_type": "stream",
     "text": [
      " b is greter or equal\n"
     ]
    }
   ],
   "source": [
    "a=7\n",
    "b=10\n",
    "result=\"a is greter\" if a>b else \" b is greter or equal\"\n",
    "print(result)"
   ]
  },
  {
   "cell_type": "code",
   "execution_count": 15,
   "metadata": {},
   "outputs": [
    {
     "name": "stdout",
     "output_type": "stream",
     "text": [
      "The value is empty string\n"
     ]
    }
   ],
   "source": [
    "value=\" \"\n",
    "if value is None:\n",
    "    print(\"The value is None\")\n",
    "elif value==\" \":\n",
    "    print(\"The value is empty string\")\n",
    "else:\n",
    "    print(f(\"the value is : {value}\"))"
   ]
  },
  {
   "cell_type": "code",
   "execution_count": null,
   "metadata": {},
   "outputs": [],
   "source": [
    "Checking for Membership in Multiple Lists"
   ]
  },
  {
   "cell_type": "code",
   "execution_count": 16,
   "metadata": {},
   "outputs": [
    {
     "name": "stdout",
     "output_type": "stream",
     "text": [
      "green is available in the list\n"
     ]
    }
   ],
   "source": [
    "colors=['green','red','orange']\n",
    "selected_color='green'\n",
    "if selected_color in colors:\n",
    "    print(f\"{selected_color} is available in the list\")\n",
    "else:\n",
    "    print(f\"{selected_color} is not in the list\")\n",
    "\n"
   ]
  },
  {
   "cell_type": "code",
   "execution_count": null,
   "metadata": {},
   "outputs": [],
   "source": [
    "Example 3: Using all and any with Lists"
   ]
  },
  {
   "cell_type": "code",
   "execution_count": 17,
   "metadata": {},
   "outputs": [
    {
     "name": "stdout",
     "output_type": "stream",
     "text": [
      "all  numbers are positive\n"
     ]
    }
   ],
   "source": [
    "numbers=[1,2,3,4,5]\n",
    "if all(num>0 for num in numbers):\n",
    "    print(\"all  numbers are positive\")\n",
    "elif any(num%2==0 for num in numbers):\n",
    "    print(\"at least one number is even\")\n",
    "else:\n",
    "    print('There are non +ve num or even numbers ')\n"
   ]
  },
  {
   "cell_type": "code",
   "execution_count": 18,
   "metadata": {},
   "outputs": [
    {
     "name": "stdout",
     "output_type": "stream",
     "text": [
      "Variable is an integer\n"
     ]
    }
   ],
   "source": [
    "variable = 42\n",
    "\n",
    "if isinstance(variable, int):\n",
    "    print(\"Variable is an integer\")\n",
    "elif isinstance(variable, str):\n",
    "    print(\"Variable is a string\")\n",
    "else:\n",
    "    print(\"Variable is of an unknown type\")\n"
   ]
  },
  {
   "cell_type": "code",
   "execution_count": null,
   "metadata": {},
   "outputs": [],
   "source": [
    "File Handling and Validation"
   ]
  },
  {
   "cell_type": "code",
   "execution_count": 22,
   "metadata": {},
   "outputs": [
    {
     "ename": "UnicodeDecodeError",
     "evalue": "'utf-8' codec can't decode byte 0xa5 in position 48: invalid start byte",
     "output_type": "error",
     "traceback": [
      "\u001b[1;31m---------------------------------------------------------------------------\u001b[0m",
      "\u001b[1;31mUnicodeDecodeError\u001b[0m                        Traceback (most recent call last)",
      "Cell \u001b[1;32mIn[22], line 8\u001b[0m\n\u001b[0;32m      6\u001b[0m \u001b[38;5;28;01mif\u001b[39;00m os\u001b[38;5;241m.\u001b[39mpath\u001b[38;5;241m.\u001b[39misfile(file_path):\n\u001b[0;32m      7\u001b[0m     \u001b[38;5;28;01mwith\u001b[39;00m \u001b[38;5;28mopen\u001b[39m(file_path, \u001b[38;5;124m'\u001b[39m\u001b[38;5;124mr\u001b[39m\u001b[38;5;124m'\u001b[39m) \u001b[38;5;28;01mas\u001b[39;00m file:\n\u001b[1;32m----> 8\u001b[0m         content \u001b[38;5;241m=\u001b[39m \u001b[43mfile\u001b[49m\u001b[38;5;241;43m.\u001b[39;49m\u001b[43mread\u001b[49m\u001b[43m(\u001b[49m\u001b[43m)\u001b[49m\n\u001b[0;32m      9\u001b[0m         \u001b[38;5;28mprint\u001b[39m(\u001b[38;5;124mf\u001b[39m\u001b[38;5;124m\"\u001b[39m\u001b[38;5;124mFile content:\u001b[39m\u001b[38;5;130;01m\\n\u001b[39;00m\u001b[38;5;132;01m{\u001b[39;00mcontent\u001b[38;5;132;01m}\u001b[39;00m\u001b[38;5;124m\"\u001b[39m)\n\u001b[0;32m     10\u001b[0m \u001b[38;5;28;01melse\u001b[39;00m:\n",
      "File \u001b[1;32mc:\\Users\\User\\anaconda3123\\lib\\codecs.py:322\u001b[0m, in \u001b[0;36mBufferedIncrementalDecoder.decode\u001b[1;34m(self, input, final)\u001b[0m\n\u001b[0;32m    319\u001b[0m \u001b[38;5;28;01mdef\u001b[39;00m \u001b[38;5;21mdecode\u001b[39m(\u001b[38;5;28mself\u001b[39m, \u001b[38;5;28minput\u001b[39m, final\u001b[38;5;241m=\u001b[39m\u001b[38;5;28;01mFalse\u001b[39;00m):\n\u001b[0;32m    320\u001b[0m     \u001b[38;5;66;03m# decode input (taking the buffer into account)\u001b[39;00m\n\u001b[0;32m    321\u001b[0m     data \u001b[38;5;241m=\u001b[39m \u001b[38;5;28mself\u001b[39m\u001b[38;5;241m.\u001b[39mbuffer \u001b[38;5;241m+\u001b[39m \u001b[38;5;28minput\u001b[39m\n\u001b[1;32m--> 322\u001b[0m     (result, consumed) \u001b[38;5;241m=\u001b[39m \u001b[38;5;28;43mself\u001b[39;49m\u001b[38;5;241;43m.\u001b[39;49m\u001b[43m_buffer_decode\u001b[49m\u001b[43m(\u001b[49m\u001b[43mdata\u001b[49m\u001b[43m,\u001b[49m\u001b[43m \u001b[49m\u001b[38;5;28;43mself\u001b[39;49m\u001b[38;5;241;43m.\u001b[39;49m\u001b[43merrors\u001b[49m\u001b[43m,\u001b[49m\u001b[43m \u001b[49m\u001b[43mfinal\u001b[49m\u001b[43m)\u001b[49m\n\u001b[0;32m    323\u001b[0m     \u001b[38;5;66;03m# keep undecoded input until the next call\u001b[39;00m\n\u001b[0;32m    324\u001b[0m     \u001b[38;5;28mself\u001b[39m\u001b[38;5;241m.\u001b[39mbuffer \u001b[38;5;241m=\u001b[39m data[consumed:]\n",
      "\u001b[1;31mUnicodeDecodeError\u001b[0m: 'utf-8' codec can't decode byte 0xa5 in position 48: invalid start byte"
     ]
    }
   ],
   "source": [
    "import os\n",
    "\n",
    "file_path = input(\"Enter the path of the file: \")\n",
    "\n",
    "if os.path.exists(file_path):\n",
    "    if os.path.isfile(file_path):\n",
    "        with open(file_path, 'r') as file:\n",
    "            content = file.read()\n",
    "            print(f\"File content:\\n{content}\")\n",
    "    else:\n",
    "        print(\"The specified path does not point to a file.\")\n",
    "else:\n",
    "    print(\"File not found at the specified path.\")\n"
   ]
  },
  {
   "cell_type": "code",
   "execution_count": 26,
   "metadata": {},
   "outputs": [
    {
     "name": "stdout",
     "output_type": "stream",
     "text": [
      "The list using for loop: [10, 12, 14, 36, 18]\n"
     ]
    }
   ],
   "source": [
    "l = [5,10,12,14,25,36,18,15,17,23]\n",
    "list1=[]\n",
    "for item in l:\n",
    "    if item%2==0:\n",
    "        list1.append(item)\n",
    "print(\"The list using for loop:\",list1)"
   ]
  },
  {
   "cell_type": "code",
   "execution_count": 28,
   "metadata": {},
   "outputs": [
    {
     "name": "stdout",
     "output_type": "stream",
     "text": [
      "resultant list using list comprehension: [10, 12, 14, 36, 18]\n"
     ]
    }
   ],
   "source": [
    "l = [5,10,12,14,25,36,18,15,17,23]\n",
    "list1=[item for item in l if item%2==0]\n",
    "print(\"resultant list using list comprehension:\", list1)"
   ]
  },
  {
   "cell_type": "code",
   "execution_count": 29,
   "metadata": {},
   "outputs": [
    {
     "name": "stdout",
     "output_type": "stream",
     "text": [
      "1\n",
      "4\n",
      "9\n",
      "16\n",
      "25\n"
     ]
    }
   ],
   "source": [
    "# given a list of numbers, find the squares of the numbers using the map function in python\n",
    "def square(x):\n",
    "    return x*x\n",
    "num=[1,2,3,4,5]\n",
    "num_squared=map(square,num)\n",
    "for num in num_squared:\n",
    "    print(num)"
   ]
  },
  {
   "cell_type": "code",
   "execution_count": 35,
   "metadata": {},
   "outputs": [
    {
     "name": "stdout",
     "output_type": "stream",
     "text": [
      "(12, 18, 9, 6)\n"
     ]
    }
   ],
   "source": [
    "# write a program to filter out the numbers division by 3 from a tuple using lambda function\n",
    "my_tup=(5,12,10,18,43,9,7,11,6)\n",
    "new_tup=tuple(filter(lambda x: (x%3==0),my_tup))\n",
    "print(new_tup)\n"
   ]
  },
  {
   "cell_type": "code",
   "execution_count": 37,
   "metadata": {},
   "outputs": [
    {
     "name": "stdout",
     "output_type": "stream",
     "text": [
      "{'name': ['amy', 'lokesh', 'shyam', 'hari'], 'age': [35, 36, 37, 38], 'city': ['goa', 'blr', 'hyd', 'pune']}\n"
     ]
    }
   ],
   "source": [
    "# how to create a dataframe in dictionary\n",
    "import pandas as pd\n",
    "Emp={'name':['amy','lokesh','shyam','hari'],\n",
    "     'age':[35,36,37,38],\n",
    "     'city':['goa','blr','hyd','pune']\n",
    "}\n",
    "print(Emp)"
   ]
  },
  {
   "cell_type": "code",
   "execution_count": 38,
   "metadata": {},
   "outputs": [],
   "source": [
    "df=pd.DataFrame(Emp)"
   ]
  },
  {
   "cell_type": "code",
   "execution_count": 39,
   "metadata": {},
   "outputs": [
    {
     "data": {
      "text/html": [
       "<div>\n",
       "<style scoped>\n",
       "    .dataframe tbody tr th:only-of-type {\n",
       "        vertical-align: middle;\n",
       "    }\n",
       "\n",
       "    .dataframe tbody tr th {\n",
       "        vertical-align: top;\n",
       "    }\n",
       "\n",
       "    .dataframe thead th {\n",
       "        text-align: right;\n",
       "    }\n",
       "</style>\n",
       "<table border=\"1\" class=\"dataframe\">\n",
       "  <thead>\n",
       "    <tr style=\"text-align: right;\">\n",
       "      <th></th>\n",
       "      <th>name</th>\n",
       "      <th>age</th>\n",
       "      <th>city</th>\n",
       "    </tr>\n",
       "  </thead>\n",
       "  <tbody>\n",
       "    <tr>\n",
       "      <th>0</th>\n",
       "      <td>amy</td>\n",
       "      <td>35</td>\n",
       "      <td>goa</td>\n",
       "    </tr>\n",
       "    <tr>\n",
       "      <th>1</th>\n",
       "      <td>lokesh</td>\n",
       "      <td>36</td>\n",
       "      <td>blr</td>\n",
       "    </tr>\n",
       "    <tr>\n",
       "      <th>2</th>\n",
       "      <td>shyam</td>\n",
       "      <td>37</td>\n",
       "      <td>hyd</td>\n",
       "    </tr>\n",
       "    <tr>\n",
       "      <th>3</th>\n",
       "      <td>hari</td>\n",
       "      <td>38</td>\n",
       "      <td>pune</td>\n",
       "    </tr>\n",
       "  </tbody>\n",
       "</table>\n",
       "</div>"
      ],
      "text/plain": [
       "     name  age  city\n",
       "0     amy   35   goa\n",
       "1  lokesh   36   blr\n",
       "2   shyam   37   hyd\n",
       "3    hari   38  pune"
      ]
     },
     "execution_count": 39,
     "metadata": {},
     "output_type": "execute_result"
    }
   ],
   "source": [
    "df"
   ]
  },
  {
   "cell_type": "code",
   "execution_count": null,
   "metadata": {},
   "outputs": [],
   "source": [
    "# whats the difference between loc and iloc in python\n",
    "loc uses rows and coloumns labels to select and slice data from a DataFrame\n",
    "iloc uses integer index to select specefic and rows and coloumns\n",
    " "
   ]
  },
  {
   "cell_type": "code",
   "execution_count": 40,
   "metadata": {},
   "outputs": [
    {
     "data": {
      "text/html": [
       "<div>\n",
       "<style scoped>\n",
       "    .dataframe tbody tr th:only-of-type {\n",
       "        vertical-align: middle;\n",
       "    }\n",
       "\n",
       "    .dataframe tbody tr th {\n",
       "        vertical-align: top;\n",
       "    }\n",
       "\n",
       "    .dataframe thead th {\n",
       "        text-align: right;\n",
       "    }\n",
       "</style>\n",
       "<table border=\"1\" class=\"dataframe\">\n",
       "  <thead>\n",
       "    <tr style=\"text-align: right;\">\n",
       "      <th></th>\n",
       "      <th>Pregnancies</th>\n",
       "      <th>Glucose</th>\n",
       "      <th>BloodPressure</th>\n",
       "      <th>SkinThickness</th>\n",
       "      <th>Insulin</th>\n",
       "      <th>BMI</th>\n",
       "      <th>DiabetesPedigreeFunction</th>\n",
       "      <th>Age</th>\n",
       "      <th>Outcome</th>\n",
       "    </tr>\n",
       "  </thead>\n",
       "  <tbody>\n",
       "    <tr>\n",
       "      <th>0</th>\n",
       "      <td>6</td>\n",
       "      <td>148</td>\n",
       "      <td>72</td>\n",
       "      <td>35</td>\n",
       "      <td>0</td>\n",
       "      <td>33.6</td>\n",
       "      <td>0.627</td>\n",
       "      <td>50</td>\n",
       "      <td>1</td>\n",
       "    </tr>\n",
       "    <tr>\n",
       "      <th>1</th>\n",
       "      <td>1</td>\n",
       "      <td>85</td>\n",
       "      <td>66</td>\n",
       "      <td>29</td>\n",
       "      <td>0</td>\n",
       "      <td>26.6</td>\n",
       "      <td>0.351</td>\n",
       "      <td>31</td>\n",
       "      <td>0</td>\n",
       "    </tr>\n",
       "    <tr>\n",
       "      <th>2</th>\n",
       "      <td>8</td>\n",
       "      <td>183</td>\n",
       "      <td>64</td>\n",
       "      <td>0</td>\n",
       "      <td>0</td>\n",
       "      <td>23.3</td>\n",
       "      <td>0.672</td>\n",
       "      <td>32</td>\n",
       "      <td>1</td>\n",
       "    </tr>\n",
       "    <tr>\n",
       "      <th>3</th>\n",
       "      <td>1</td>\n",
       "      <td>89</td>\n",
       "      <td>66</td>\n",
       "      <td>23</td>\n",
       "      <td>94</td>\n",
       "      <td>28.1</td>\n",
       "      <td>0.167</td>\n",
       "      <td>21</td>\n",
       "      <td>0</td>\n",
       "    </tr>\n",
       "    <tr>\n",
       "      <th>4</th>\n",
       "      <td>0</td>\n",
       "      <td>137</td>\n",
       "      <td>40</td>\n",
       "      <td>35</td>\n",
       "      <td>168</td>\n",
       "      <td>43.1</td>\n",
       "      <td>2.288</td>\n",
       "      <td>33</td>\n",
       "      <td>1</td>\n",
       "    </tr>\n",
       "    <tr>\n",
       "      <th>...</th>\n",
       "      <td>...</td>\n",
       "      <td>...</td>\n",
       "      <td>...</td>\n",
       "      <td>...</td>\n",
       "      <td>...</td>\n",
       "      <td>...</td>\n",
       "      <td>...</td>\n",
       "      <td>...</td>\n",
       "      <td>...</td>\n",
       "    </tr>\n",
       "    <tr>\n",
       "      <th>763</th>\n",
       "      <td>10</td>\n",
       "      <td>101</td>\n",
       "      <td>76</td>\n",
       "      <td>48</td>\n",
       "      <td>180</td>\n",
       "      <td>32.9</td>\n",
       "      <td>0.171</td>\n",
       "      <td>63</td>\n",
       "      <td>0</td>\n",
       "    </tr>\n",
       "    <tr>\n",
       "      <th>764</th>\n",
       "      <td>2</td>\n",
       "      <td>122</td>\n",
       "      <td>70</td>\n",
       "      <td>27</td>\n",
       "      <td>0</td>\n",
       "      <td>36.8</td>\n",
       "      <td>0.340</td>\n",
       "      <td>27</td>\n",
       "      <td>0</td>\n",
       "    </tr>\n",
       "    <tr>\n",
       "      <th>765</th>\n",
       "      <td>5</td>\n",
       "      <td>121</td>\n",
       "      <td>72</td>\n",
       "      <td>23</td>\n",
       "      <td>112</td>\n",
       "      <td>26.2</td>\n",
       "      <td>0.245</td>\n",
       "      <td>30</td>\n",
       "      <td>0</td>\n",
       "    </tr>\n",
       "    <tr>\n",
       "      <th>766</th>\n",
       "      <td>1</td>\n",
       "      <td>126</td>\n",
       "      <td>60</td>\n",
       "      <td>0</td>\n",
       "      <td>0</td>\n",
       "      <td>30.1</td>\n",
       "      <td>0.349</td>\n",
       "      <td>47</td>\n",
       "      <td>1</td>\n",
       "    </tr>\n",
       "    <tr>\n",
       "      <th>767</th>\n",
       "      <td>1</td>\n",
       "      <td>93</td>\n",
       "      <td>70</td>\n",
       "      <td>31</td>\n",
       "      <td>0</td>\n",
       "      <td>30.4</td>\n",
       "      <td>0.315</td>\n",
       "      <td>23</td>\n",
       "      <td>0</td>\n",
       "    </tr>\n",
       "  </tbody>\n",
       "</table>\n",
       "<p>768 rows × 9 columns</p>\n",
       "</div>"
      ],
      "text/plain": [
       "     Pregnancies  Glucose  BloodPressure  SkinThickness  Insulin   BMI  \\\n",
       "0              6      148             72             35        0  33.6   \n",
       "1              1       85             66             29        0  26.6   \n",
       "2              8      183             64              0        0  23.3   \n",
       "3              1       89             66             23       94  28.1   \n",
       "4              0      137             40             35      168  43.1   \n",
       "..           ...      ...            ...            ...      ...   ...   \n",
       "763           10      101             76             48      180  32.9   \n",
       "764            2      122             70             27        0  36.8   \n",
       "765            5      121             72             23      112  26.2   \n",
       "766            1      126             60              0        0  30.1   \n",
       "767            1       93             70             31        0  30.4   \n",
       "\n",
       "     DiabetesPedigreeFunction  Age  Outcome  \n",
       "0                       0.627   50        1  \n",
       "1                       0.351   31        0  \n",
       "2                       0.672   32        1  \n",
       "3                       0.167   21        0  \n",
       "4                       2.288   33        1  \n",
       "..                        ...  ...      ...  \n",
       "763                     0.171   63        0  \n",
       "764                     0.340   27        0  \n",
       "765                     0.245   30        0  \n",
       "766                     0.349   47        1  \n",
       "767                     0.315   23        0  \n",
       "\n",
       "[768 rows x 9 columns]"
      ]
     },
     "execution_count": 40,
     "metadata": {},
     "output_type": "execute_result"
    }
   ],
   "source": [
    "df=pd.read_csv(r\"C:\\Users\\User\\Desktop\\diabetes.csv\")\n",
    "df"
   ]
  },
  {
   "cell_type": "code",
   "execution_count": 41,
   "metadata": {},
   "outputs": [
    {
     "data": {
      "text/html": [
       "<div>\n",
       "<style scoped>\n",
       "    .dataframe tbody tr th:only-of-type {\n",
       "        vertical-align: middle;\n",
       "    }\n",
       "\n",
       "    .dataframe tbody tr th {\n",
       "        vertical-align: top;\n",
       "    }\n",
       "\n",
       "    .dataframe thead th {\n",
       "        text-align: right;\n",
       "    }\n",
       "</style>\n",
       "<table border=\"1\" class=\"dataframe\">\n",
       "  <thead>\n",
       "    <tr style=\"text-align: right;\">\n",
       "      <th></th>\n",
       "      <th>Pregnancies</th>\n",
       "      <th>Glucose</th>\n",
       "      <th>BloodPressure</th>\n",
       "      <th>SkinThickness</th>\n",
       "      <th>Insulin</th>\n",
       "      <th>BMI</th>\n",
       "      <th>DiabetesPedigreeFunction</th>\n",
       "      <th>Age</th>\n",
       "      <th>Outcome</th>\n",
       "    </tr>\n",
       "  </thead>\n",
       "  <tbody>\n",
       "    <tr>\n",
       "      <th>0</th>\n",
       "      <td>6</td>\n",
       "      <td>148</td>\n",
       "      <td>72</td>\n",
       "      <td>35</td>\n",
       "      <td>0</td>\n",
       "      <td>33.6</td>\n",
       "      <td>0.627</td>\n",
       "      <td>50</td>\n",
       "      <td>1</td>\n",
       "    </tr>\n",
       "    <tr>\n",
       "      <th>1</th>\n",
       "      <td>1</td>\n",
       "      <td>85</td>\n",
       "      <td>66</td>\n",
       "      <td>29</td>\n",
       "      <td>0</td>\n",
       "      <td>26.6</td>\n",
       "      <td>0.351</td>\n",
       "      <td>31</td>\n",
       "      <td>0</td>\n",
       "    </tr>\n",
       "    <tr>\n",
       "      <th>2</th>\n",
       "      <td>8</td>\n",
       "      <td>183</td>\n",
       "      <td>64</td>\n",
       "      <td>0</td>\n",
       "      <td>0</td>\n",
       "      <td>23.3</td>\n",
       "      <td>0.672</td>\n",
       "      <td>32</td>\n",
       "      <td>1</td>\n",
       "    </tr>\n",
       "    <tr>\n",
       "      <th>3</th>\n",
       "      <td>1</td>\n",
       "      <td>89</td>\n",
       "      <td>66</td>\n",
       "      <td>23</td>\n",
       "      <td>94</td>\n",
       "      <td>28.1</td>\n",
       "      <td>0.167</td>\n",
       "      <td>21</td>\n",
       "      <td>0</td>\n",
       "    </tr>\n",
       "    <tr>\n",
       "      <th>4</th>\n",
       "      <td>0</td>\n",
       "      <td>137</td>\n",
       "      <td>40</td>\n",
       "      <td>35</td>\n",
       "      <td>168</td>\n",
       "      <td>43.1</td>\n",
       "      <td>2.288</td>\n",
       "      <td>33</td>\n",
       "      <td>1</td>\n",
       "    </tr>\n",
       "  </tbody>\n",
       "</table>\n",
       "</div>"
      ],
      "text/plain": [
       "   Pregnancies  Glucose  BloodPressure  SkinThickness  Insulin   BMI  \\\n",
       "0            6      148             72             35        0  33.6   \n",
       "1            1       85             66             29        0  26.6   \n",
       "2            8      183             64              0        0  23.3   \n",
       "3            1       89             66             23       94  28.1   \n",
       "4            0      137             40             35      168  43.1   \n",
       "\n",
       "   DiabetesPedigreeFunction  Age  Outcome  \n",
       "0                     0.627   50        1  \n",
       "1                     0.351   31        0  \n",
       "2                     0.672   32        1  \n",
       "3                     0.167   21        0  \n",
       "4                     2.288   33        1  "
      ]
     },
     "execution_count": 41,
     "metadata": {},
     "output_type": "execute_result"
    }
   ],
   "source": [
    "df.head()"
   ]
  },
  {
   "cell_type": "code",
   "execution_count": 42,
   "metadata": {},
   "outputs": [
    {
     "data": {
      "text/html": [
       "<div>\n",
       "<style scoped>\n",
       "    .dataframe tbody tr th:only-of-type {\n",
       "        vertical-align: middle;\n",
       "    }\n",
       "\n",
       "    .dataframe tbody tr th {\n",
       "        vertical-align: top;\n",
       "    }\n",
       "\n",
       "    .dataframe thead th {\n",
       "        text-align: right;\n",
       "    }\n",
       "</style>\n",
       "<table border=\"1\" class=\"dataframe\">\n",
       "  <thead>\n",
       "    <tr style=\"text-align: right;\">\n",
       "      <th></th>\n",
       "      <th>Glucose</th>\n",
       "      <th>Insulin</th>\n",
       "    </tr>\n",
       "  </thead>\n",
       "  <tbody>\n",
       "    <tr>\n",
       "      <th>2</th>\n",
       "      <td>183</td>\n",
       "      <td>0</td>\n",
       "    </tr>\n",
       "    <tr>\n",
       "      <th>3</th>\n",
       "      <td>89</td>\n",
       "      <td>94</td>\n",
       "    </tr>\n",
       "    <tr>\n",
       "      <th>4</th>\n",
       "      <td>137</td>\n",
       "      <td>168</td>\n",
       "    </tr>\n",
       "    <tr>\n",
       "      <th>5</th>\n",
       "      <td>116</td>\n",
       "      <td>0</td>\n",
       "    </tr>\n",
       "  </tbody>\n",
       "</table>\n",
       "</div>"
      ],
      "text/plain": [
       "   Glucose  Insulin\n",
       "2      183        0\n",
       "3       89       94\n",
       "4      137      168\n",
       "5      116        0"
      ]
     },
     "execution_count": 42,
     "metadata": {},
     "output_type": "execute_result"
    }
   ],
   "source": [
    "df.loc[2:5,['Glucose','Insulin']]"
   ]
  },
  {
   "cell_type": "code",
   "execution_count": 43,
   "metadata": {},
   "outputs": [
    {
     "data": {
      "text/html": [
       "<div>\n",
       "<style scoped>\n",
       "    .dataframe tbody tr th:only-of-type {\n",
       "        vertical-align: middle;\n",
       "    }\n",
       "\n",
       "    .dataframe tbody tr th {\n",
       "        vertical-align: top;\n",
       "    }\n",
       "\n",
       "    .dataframe thead th {\n",
       "        text-align: right;\n",
       "    }\n",
       "</style>\n",
       "<table border=\"1\" class=\"dataframe\">\n",
       "  <thead>\n",
       "    <tr style=\"text-align: right;\">\n",
       "      <th></th>\n",
       "      <th>Glucose</th>\n",
       "      <th>BloodPressure</th>\n",
       "      <th>SkinThickness</th>\n",
       "    </tr>\n",
       "  </thead>\n",
       "  <tbody>\n",
       "    <tr>\n",
       "      <th>2</th>\n",
       "      <td>183</td>\n",
       "      <td>64</td>\n",
       "      <td>0</td>\n",
       "    </tr>\n",
       "    <tr>\n",
       "      <th>3</th>\n",
       "      <td>89</td>\n",
       "      <td>66</td>\n",
       "      <td>23</td>\n",
       "    </tr>\n",
       "    <tr>\n",
       "      <th>4</th>\n",
       "      <td>137</td>\n",
       "      <td>40</td>\n",
       "      <td>35</td>\n",
       "    </tr>\n",
       "  </tbody>\n",
       "</table>\n",
       "</div>"
      ],
      "text/plain": [
       "   Glucose  BloodPressure  SkinThickness\n",
       "2      183             64              0\n",
       "3       89             66             23\n",
       "4      137             40             35"
      ]
     },
     "execution_count": 43,
     "metadata": {},
     "output_type": "execute_result"
    }
   ],
   "source": [
    "df.iloc[2:5,1:4]"
   ]
  },
  {
   "cell_type": "code",
   "execution_count": null,
   "metadata": {},
   "outputs": [],
   "source": [
    "# how is list.append different from the list.extend\n",
    "list.append() adds the its single element to the end of the list. The length of the list increases by one"
   ]
  },
  {
   "cell_type": "markdown",
   "metadata": {},
   "source": [
    "list.extend() iterates over its orguments and adds each element to the list. The lenth of the list incresses by the number of number elements in its argument."
   ]
  },
  {
   "cell_type": "code",
   "execution_count": 46,
   "metadata": {},
   "outputs": [
    {
     "name": "stdout",
     "output_type": "stream",
     "text": [
      "3\n",
      "['India', 'USA', 'Canada', ['France', 'Spain']]\n",
      "4\n"
     ]
    }
   ],
   "source": [
    "list1=['India','USA','Canada']\n",
    "print(len(list1))\n",
    "list1.append(['France','Spain'])\n",
    "print(list1)\n",
    "print(len(list1))"
   ]
  },
  {
   "cell_type": "code",
   "execution_count": 48,
   "metadata": {},
   "outputs": [
    {
     "name": "stdout",
     "output_type": "stream",
     "text": [
      "3\n",
      "['India', 'USA', 'Canada', 'France', 'Spain']\n",
      "5\n"
     ]
    }
   ],
   "source": [
    "list1=['India','USA','Canada']\n",
    "print(len(list1))\n",
    "list1.extend(['France','Spain'])\n",
    "print(list1)\n",
    "print(len(list1))"
   ]
  },
  {
   "cell_type": "markdown",
   "metadata": {},
   "source": [
    "create 4*4 matrix and find the summ of all the diagonal elements in the matrix"
   ]
  },
  {
   "cell_type": "code",
   "execution_count": 49,
   "metadata": {},
   "outputs": [],
   "source": [
    "import numpy as np"
   ]
  },
  {
   "cell_type": "code",
   "execution_count": 52,
   "metadata": {},
   "outputs": [
    {
     "name": "stdout",
     "output_type": "stream",
     "text": [
      "[[ 1  2  3  4]\n",
      " [ 5  6  7  8]\n",
      " [ 9 10 11 12]\n",
      " [13 14 15 16]]\n"
     ]
    }
   ],
   "source": [
    "m=np.array([[1,2,3,4],[5,6,7,8],[9,10,11,12],[13,14,15,16]])\n",
    "print(m)"
   ]
  },
  {
   "cell_type": "code",
   "execution_count": 54,
   "metadata": {},
   "outputs": [
    {
     "name": "stdout",
     "output_type": "stream",
     "text": [
      "[[ 1  2  3  4]\n",
      " [ 5  6  7  8]\n",
      " [ 9 10 11 12]\n",
      " [13 14 15 16]]\n"
     ]
    }
   ],
   "source": [
    "m=np.arange(1,17).reshape(4,4)\n",
    "print(m)"
   ]
  },
  {
   "cell_type": "code",
   "execution_count": 55,
   "metadata": {},
   "outputs": [
    {
     "name": "stdout",
     "output_type": "stream",
     "text": [
      "[ 1  6 11 16]\n"
     ]
    }
   ],
   "source": [
    "print(m.diagonal())"
   ]
  },
  {
   "cell_type": "code",
   "execution_count": 56,
   "metadata": {},
   "outputs": [
    {
     "name": "stdout",
     "output_type": "stream",
     "text": [
      "34\n"
     ]
    }
   ],
   "source": [
    "print(m.diagonal().sum())"
   ]
  },
  {
   "cell_type": "markdown",
   "metadata": {},
   "source": [
    "microsoft interview"
   ]
  },
  {
   "cell_type": "code",
   "execution_count": 57,
   "metadata": {},
   "outputs": [
    {
     "name": "stdout",
     "output_type": "stream",
     "text": [
      "15\n"
     ]
    }
   ],
   "source": [
    "a=[1,2,3,4,5]\n",
    "sum=0\n",
    "for ele in a:\n",
    "    sum+=ele\n",
    "print(sum)"
   ]
  },
  {
   "cell_type": "markdown",
   "metadata": {},
   "source": [
    "Given a list of integers and a integer target, return indices of the two numbers such that they add up tp target."
   ]
  },
  {
   "cell_type": "code",
   "execution_count": 58,
   "metadata": {},
   "outputs": [],
   "source": [
    "def twosum(nums,target):\n",
    "    for i in range(len(nums)):\n",
    "        for j in range(i+1,len(nums)):\n",
    "            if nums[j]==target-nums[i]:\n",
    "                return [i,j]"
   ]
  },
  {
   "cell_type": "code",
   "execution_count": 59,
   "metadata": {},
   "outputs": [
    {
     "name": "stdout",
     "output_type": "stream",
     "text": [
      "[1, 2]\n"
     ]
    }
   ],
   "source": [
    "print(twosum([1,5,7,2],12))"
   ]
  },
  {
   "cell_type": "markdown",
   "metadata": {},
   "source": []
  },
  {
   "cell_type": "markdown",
   "metadata": {},
   "source": [
    "Python pandas interview Q&A Mindmajix"
   ]
  },
  {
   "cell_type": "markdown",
   "metadata": {},
   "source": [
    "define pandas?"
   ]
  },
  {
   "cell_type": "code",
   "execution_count": 63,
   "metadata": {},
   "outputs": [
    {
     "ename": "SyntaxError",
     "evalue": "invalid syntax (324314765.py, line 1)",
     "output_type": "error",
     "traceback": [
      "\u001b[1;36m  Cell \u001b[1;32mIn[63], line 1\u001b[1;36m\u001b[0m\n\u001b[1;33m    pandas refer to a data analysis  and manipulation software library build specifically by python. pandas opensourse\u001b[0m\n\u001b[1;37m           ^\u001b[0m\n\u001b[1;31mSyntaxError\u001b[0m\u001b[1;31m:\u001b[0m invalid syntax\n"
     ]
    }
   ],
   "source": [
    "pandas refer to a data analysis  and manipulation software library build specifically by python. pandas opensourse\n",
    "and cross platform library.\n"
   ]
  },
  {
   "cell_type": "markdown",
   "metadata": {},
   "source": [
    "Mention different types of data structures in pandas?\n",
    "\n",
    "series and DataFrames are the two types of data strutures that the pandas library supports Numpy serves as the foundation \n",
    "for both data strutures.\n",
    "\n",
    "series is 1 dimentional data structure\n",
    "\n",
    "DataFrame is 2 dimetional data structure"
   ]
  },
  {
   "cell_type": "markdown",
   "metadata": {},
   "source": [
    "what is python pandas used for?\n",
    "\n",
    "pandas is data manipulation and analysis software library for the python programming laguage. It includes data structure\n",
    "and methods for manipulating numerical tables and time series in particular."
   ]
  },
  {
   "cell_type": "markdown",
   "metadata": {},
   "source": [
    "List out key feature of pandas library?\n",
    "\n",
    "memory efficient\n",
    "\n",
    "Time series\n",
    "\n",
    "reshaping\n",
    "\n",
    "data alignment\n",
    "\n",
    "merge and join"
   ]
  },
  {
   "cell_type": "markdown",
   "metadata": {},
   "source": []
  },
  {
   "cell_type": "markdown",
   "metadata": {},
   "source": [
    "Explain how to create and copy a series in python"
   ]
  },
  {
   "cell_type": "code",
   "execution_count": null,
   "metadata": {},
   "outputs": [],
   "source": []
  },
  {
   "cell_type": "code",
   "execution_count": 71,
   "metadata": {},
   "outputs": [
    {
     "data": {
      "text/plain": [
       "[0, 1, 2, 3, 4]"
      ]
     },
     "execution_count": 71,
     "metadata": {},
     "output_type": "execute_result"
    }
   ],
   "source": [
    "list(range(5))"
   ]
  },
  {
   "cell_type": "code",
   "execution_count": 75,
   "metadata": {},
   "outputs": [
    {
     "name": "stdout",
     "output_type": "stream",
     "text": [
      "0\n",
      "1\n",
      "5\n",
      "7\n",
      "Loop Success\n"
     ]
    }
   ],
   "source": [
    "digi = [0, 1, 5, 7]\n",
    "for data in digi:\n",
    "    if data==4:\n",
    "        break\n",
    "    print(data)\n",
    "else:\n",
    "    print(\"Loop Success\")"
   ]
  },
  {
   "cell_type": "code",
   "execution_count": 77,
   "metadata": {},
   "outputs": [
    {
     "name": "stdout",
     "output_type": "stream",
     "text": [
      "1\n",
      "3\n",
      "5\n",
      "7\n",
      "9\n",
      "11\n",
      "13\n"
     ]
    }
   ],
   "source": [
    "for i in range(1,20,2):\n",
    "    if i==15:\n",
    "        break\n",
    "    print(i)\n",
    "else:\n",
    "    print('Iterated over everything :)')"
   ]
  },
  {
   "cell_type": "code",
   "execution_count": 80,
   "metadata": {},
   "outputs": [
    {
     "name": "stdout",
     "output_type": "stream",
     "text": [
      "1\n",
      "2\n",
      "4\n",
      "5\n",
      "6\n",
      "7\n",
      "8\n",
      "9\n"
     ]
    }
   ],
   "source": [
    "for i in range(1,10):\n",
    "    if i == 3:\n",
    "        continue\n",
    "    print(i)"
   ]
  },
  {
   "cell_type": "code",
   "execution_count": 81,
   "metadata": {},
   "outputs": [
    {
     "name": "stdout",
     "output_type": "stream",
     "text": [
      "1\n",
      "2\n",
      "3\n",
      "4\n",
      "5\n",
      "loop Finished\n"
     ]
    }
   ],
   "source": [
    "x=1\n",
    "while x<=5:\n",
    "    print(x)\n",
    "    x=x+1\n",
    "print(\"loop Finished\")"
   ]
  },
  {
   "cell_type": "code",
   "execution_count": 82,
   "metadata": {},
   "outputs": [
    {
     "name": "stdout",
     "output_type": "stream",
     "text": [
      "2  is prime\n",
      "3  is prime\n",
      "5  is prime\n",
      "7  is prime\n",
      "11  is prime\n",
      "13  is prime\n",
      "17  is prime\n",
      "19  is prime\n",
      "23  is prime\n",
      "29  is prime\n",
      "31  is prime\n",
      "37  is prime\n",
      "41  is prime\n",
      "43  is prime\n",
      "47  is prime\n",
      "53  is prime\n",
      "59  is prime\n",
      "61  is prime\n",
      "67  is prime\n",
      "71  is prime\n",
      "73  is prime\n",
      "79  is prime\n",
      "83  is prime\n",
      "89  is prime\n",
      "97  is prime\n",
      "Good bye!\n"
     ]
    }
   ],
   "source": [
    "i = 2\n",
    "while(i < 100):\n",
    "   j = 2\n",
    "   while(j <= (i/j)):\n",
    "      if not(i%j): break\n",
    "      j = j + 1\n",
    "   if (j > i/j) : print (i,\" is prime\")\n",
    "   i = i + 1\n",
    "print (\"Good bye!\")"
   ]
  },
  {
   "cell_type": "code",
   "execution_count": 83,
   "metadata": {},
   "outputs": [
    {
     "name": "stdout",
     "output_type": "stream",
     "text": [
      "1 1\n",
      "1 2\n",
      "2 1\n",
      "2 2\n"
     ]
    }
   ],
   "source": [
    " for a in range(1,3):\n",
    "       for b in range(1,3):\n",
    "           print(a,b)"
   ]
  },
  {
   "cell_type": "markdown",
   "metadata": {},
   "source": [
    "pattern program\n",
    "\n",
    "1. Input: how many rows contains\n",
    "\n",
    "2. for loop: two for loops rows and columns\n",
    "\n",
    "3. range: \n",
    "\n",
    "4.print(): print(\"hello\"), print('hi')"
   ]
  },
  {
   "cell_type": "code",
   "execution_count": 88,
   "metadata": {},
   "outputs": [
    {
     "name": "stdout",
     "output_type": "stream",
     "text": [
      "*\n",
      "**\n",
      "***\n",
      "****\n",
      "*****\n"
     ]
    }
   ],
   "source": [
    "num=int(input(\"Enter the number of rows:\"))\n",
    "for i in range(1,num+1):\n",
    "    for j in range(1,i+1):\n",
    "        print(\"*\", end=\"\")\n",
    "    print()"
   ]
  },
  {
   "cell_type": "code",
   "execution_count": null,
   "metadata": {},
   "outputs": [],
   "source": []
  },
  {
   "cell_type": "code",
   "execution_count": 3,
   "metadata": {},
   "outputs": [
    {
     "name": "stdout",
     "output_type": "stream",
     "text": [
      "False\n",
      "True\n",
      "False\n"
     ]
    },
    {
     "ename": "AttributeError",
     "evalue": "'int' object has no attribute 'isdigit'",
     "output_type": "error",
     "traceback": [
      "\u001b[1;31m---------------------------------------------------------------------------\u001b[0m",
      "\u001b[1;31mAttributeError\u001b[0m                            Traceback (most recent call last)",
      "Cell \u001b[1;32mIn[3], line 9\u001b[0m\n\u001b[0;32m      6\u001b[0m \u001b[38;5;28mprint\u001b[39m(str3\u001b[38;5;241m.\u001b[39misdigit())\n\u001b[0;32m      8\u001b[0m str4\u001b[38;5;241m=\u001b[39m\u001b[38;5;241m12\u001b[39m\n\u001b[1;32m----> 9\u001b[0m \u001b[38;5;28mprint\u001b[39m(\u001b[43mstr4\u001b[49m\u001b[38;5;241;43m.\u001b[39;49m\u001b[43misdigit\u001b[49m)\n",
      "\u001b[1;31mAttributeError\u001b[0m: 'int' object has no attribute 'isdigit'"
     ]
    }
   ],
   "source": [
    "str1=\"PYTHON\"\n",
    "print(str1.isdigit())\n",
    "str2=\"12345\"\n",
    "print(str2.isdigit())\n",
    "str3=\"Hello123\"\n",
    "print(str3.isdigit())\n",
    "\n"
   ]
  },
  {
   "cell_type": "code",
   "execution_count": 4,
   "metadata": {},
   "outputs": [
    {
     "name": "stdout",
     "output_type": "stream",
     "text": [
      "False\n",
      "True\n",
      "False\n"
     ]
    }
   ],
   "source": [
    "PyStr=\"PYTHON\"\n",
    "print(PyStr.islower())\n",
    "PyStr=\"python\"\n",
    "print(PyStr.islower())\n",
    "PyStr=\"pYthOn\"\n",
    "print(PyStr.islower())\n"
   ]
  },
  {
   "cell_type": "code",
   "execution_count": 5,
   "metadata": {},
   "outputs": [
    {
     "name": "stdout",
     "output_type": "stream",
     "text": [
      "6\n",
      "22\n"
     ]
    }
   ],
   "source": [
    "PyStr=\"PYTHON\"\n",
    "print(len(PyStr))\n",
    "PyStr=\"DataScience is ROCKING\"\n",
    "print(len(PyStr))\n"
   ]
  },
  {
   "cell_type": "code",
   "execution_count": 6,
   "metadata": {},
   "outputs": [
    {
     "name": "stdout",
     "output_type": "stream",
     "text": [
      "1-2-3-4\n"
     ]
    }
   ],
   "source": [
    "PyList=['1','2','3','4']  \n",
    "Sep=\"-\"\n",
    "print(Sep.join(PyList))\n"
   ]
  },
  {
   "cell_type": "code",
   "execution_count": 7,
   "metadata": {},
   "outputs": [
    {
     "name": "stdout",
     "output_type": "stream",
     "text": [
      "H__E__L__L__O\n"
     ]
    }
   ],
   "source": [
    "PyList=[\"H\",\"E\",\"L\",\"L\",\"O\"]\n",
    "Sep=\"__\"\n",
    "print(Sep.join(PyList))"
   ]
  },
  {
   "cell_type": "code",
   "execution_count": 8,
   "metadata": {},
   "outputs": [
    {
     "name": "stdout",
     "output_type": "stream",
     "text": [
      "d\n",
      "d\n",
      "x\n"
     ]
    }
   ],
   "source": [
    "PyStr=\"abcd\"\n",
    "print(max(PyStr))\n",
    "PyStr=\"abcddcba\"\n",
    "print(max(PyStr))\n",
    "PyStr=\"Maximum\"\n",
    "print(max(PyStr))"
   ]
  },
  {
   "cell_type": "code",
   "execution_count": 9,
   "metadata": {},
   "outputs": [
    {
     "name": "stdout",
     "output_type": "stream",
     "text": [
      "Hello How are U\n",
      "Hello How was You\n"
     ]
    }
   ],
   "source": [
    "str = \"Hello How are You\"\n",
    "print(str.replace(\"You\", \"U\"))\n",
    "print(str.replace(\"are\", \"was\", 3))\n"
   ]
  },
  {
   "cell_type": "code",
   "execution_count": 10,
   "metadata": {},
   "outputs": [
    {
     "name": "stdout",
     "output_type": "stream",
     "text": [
      "True\n",
      "True\n",
      "True\n",
      "False\n"
     ]
    }
   ],
   "source": [
    "PyStr=\"2009\"; \n",
    "print(PyStr.isalnum())\n",
    "PyStr=\"this\"; \n",
    "print(PyStr.isalnum())\n",
    "PyStr=\"this2009\"; \n",
    "print(PyStr.isalnum())\n",
    "PyStr=\"this string example....wow\"\n",
    "print(PyStr.isalnum())\n"
   ]
  },
  {
   "cell_type": "code",
   "execution_count": 11,
   "metadata": {},
   "outputs": [
    {
     "name": "stdout",
     "output_type": "stream",
     "text": [
      "['a', 'b', 'c', ['d', 'e', 'f']]\n"
     ]
    }
   ],
   "source": [
    "alist = ['a', 'b', 'c']\n",
    "alist.append(['d', 'e','f'])\n",
    "print(alist)\n"
   ]
  },
  {
   "cell_type": "code",
   "execution_count": 12,
   "metadata": {},
   "outputs": [
    {
     "name": "stdout",
     "output_type": "stream",
     "text": [
      "Big Data\n",
      "['DataScinece', 'Hadoop', 'Spark', 'IoT']\n",
      "DataScinece\n"
     ]
    }
   ],
   "source": [
    "py_list=[\"Big Data\", \"Hadoop\", \"Spark\", \"IoT\"]  \n",
    "print(py_list[0])  \n",
    "py_list[0]=\"DataScinece\" \n",
    "print(py_list)  \n",
    "print(py_list[0]) "
   ]
  },
  {
   "cell_type": "code",
   "execution_count": 14,
   "metadata": {},
   "outputs": [
    {
     "name": "stdout",
     "output_type": "stream",
     "text": [
      "['a', 'b', 'c', 'd', 'e', 'f', 'd']\n"
     ]
    }
   ],
   "source": [
    "alist1 = ['a', 'b', 'c']\n",
    "alist1.extend(['d', 'e','f','d'])\n",
    "print(alist1)"
   ]
  },
  {
   "cell_type": "code",
   "execution_count": 15,
   "metadata": {},
   "outputs": [
    {
     "name": "stdout",
     "output_type": "stream",
     "text": [
      "Updated List:  ['Big', 'Data', 'TERADATA', 'Hadoop', 'Spark']\n"
     ]
    }
   ],
   "source": [
    "MyData = ['Big', 'Data', 'Hadoop', 'Spark']\n",
    "MyData.insert(2, 'TERADATA')\n",
    "print('Updated List: ', MyData)"
   ]
  },
  {
   "cell_type": "code",
   "execution_count": 16,
   "metadata": {},
   "outputs": [
    {
     "name": "stdout",
     "output_type": "stream",
     "text": [
      "['Big Data', 'Hadoop', 'Spark', 'IoT']\n",
      "['Big Data', 'Hadoop', 'Spark']\n"
     ]
    }
   ],
   "source": [
    "py_list=[\"Big Data\", \"Hadoop\", \"Spark\", \"IoT\"]  \n",
    "print(py_list)  \n",
    "py_list.remove(\"IoT\")  \n",
    "print(py_list) "
   ]
  },
  {
   "cell_type": "code",
   "execution_count": 17,
   "metadata": {},
   "outputs": [
    {
     "name": "stdout",
     "output_type": "stream",
     "text": [
      "['Banana', 'Cherry', 'Jackfruit', 'Grape']\n"
     ]
    }
   ],
   "source": [
    "Fruit_List = [\"Apple\", \"Banana\", \"Cherry\", \"Jackfruit\", \"Grape\"]\n",
    "del Fruit_List[0]\n",
    "print(Fruit_List)\n"
   ]
  },
  {
   "cell_type": "code",
   "execution_count": 18,
   "metadata": {},
   "outputs": [
    {
     "name": "stdout",
     "output_type": "stream",
     "text": [
      "['Big Data', 'Hadoop', 'Spark', 'IoT']\n",
      "[]\n"
     ]
    }
   ],
   "source": [
    "py_list=[\"Big Data\", \"Hadoop\", \"Spark\", \"IoT\"]  \n",
    "print(py_list)  \n",
    "py_list.clear()  \n",
    "print(py_list)"
   ]
  },
  {
   "cell_type": "code",
   "execution_count": 19,
   "metadata": {},
   "outputs": [
    {
     "name": "stdout",
     "output_type": "stream",
     "text": [
      "[1, 2, 3, 3, 2, 1, 5, 4]\n",
      "0\n",
      "2\n",
      "7\n",
      "3\n",
      "5\n",
      "4\n",
      "7\n"
     ]
    }
   ],
   "source": [
    "PyList=[1,2,3,3,2,1,5,4]\n",
    "print(PyList)\n",
    "print(PyList.index(1))\n",
    "print(PyList.index(3))\n",
    "print(PyList.index(4))\n",
    "print(PyList.index(3,3))\n",
    "print(PyList.index(1,3))\n",
    "print(PyList.index(2,4))\n",
    "print(PyList.index(4,4,10))"
   ]
  },
  {
   "cell_type": "code",
   "execution_count": 20,
   "metadata": {},
   "outputs": [
    {
     "name": "stdout",
     "output_type": "stream",
     "text": [
      "[1, 2, 3, 1, 4, 5, 2, 5, 6, 1, 4]\n",
      "1\n",
      "6\n",
      "3\n",
      "4\n"
     ]
    }
   ],
   "source": [
    "PyList=[1,2,3,1,4,5,2,5,6,1,4]\n",
    "print(PyList)\n",
    "print(PyList.index(2))\n",
    "print(PyList.index(2,2))\n",
    "print(PyList.index(1,2,7))\n",
    "print(PyList.index(4,3,9))\n"
   ]
  },
  {
   "cell_type": "code",
   "execution_count": 21,
   "metadata": {},
   "outputs": [
    {
     "name": "stdout",
     "output_type": "stream",
     "text": [
      "['Data', 'ML', 'DL', 'Data', 'ML']\n",
      "1\n",
      "0\n",
      "3\n",
      "4\n"
     ]
    }
   ],
   "source": [
    "PyList=[\"Data\",\"ML\",\"DL\",\"Data\",\"ML\"]\n",
    "print(PyList)#['Data','ML','DL','Data','ML']\n",
    "print(PyList.index(\"ML\"))\n",
    "print(PyList.index(\"Data\"))\n",
    "print(PyList.index(\"Data\",1))\n",
    "print(PyList.index(\"ML\",2,6))\n"
   ]
  },
  {
   "cell_type": "code",
   "execution_count": 22,
   "metadata": {},
   "outputs": [
    {
     "name": "stdout",
     "output_type": "stream",
     "text": [
      "['H', 'E', 'L', 'L', 'O', ' ', 'W', 'O', 'R', 'L', 'D']\n",
      "2\n",
      "9\n",
      "4\n"
     ]
    }
   ],
   "source": [
    "listy = list(\"HELLO WORLD\")  \n",
    "print(listy)  \n",
    "index = listy.index(\"L\")\n",
    "print(index)  \n",
    "index = listy.index(\"L\", 4)   \n",
    "print(index)  \n",
    "index = listy.index(\"O\", 3, 5) \n",
    "print(index) \n"
   ]
  },
  {
   "cell_type": "code",
   "execution_count": 23,
   "metadata": {},
   "outputs": [
    {
     "name": "stdout",
     "output_type": "stream",
     "text": [
      "[[1, 2], [2, 4], [4, 5], [3, 1]]\n",
      "[[1, 2], [2, 4], [3, 1], [4, 5]]\n"
     ]
    }
   ],
   "source": [
    "PyList=[[1,2],[2,4],[4,5],[3,1]]\n",
    "print(PyList)\n",
    "PyList.sort()\n",
    "print(PyList)"
   ]
  },
  {
   "cell_type": "code",
   "execution_count": 1,
   "metadata": {},
   "outputs": [
    {
     "name": "stdout",
     "output_type": "stream",
     "text": [
      "True\n",
      "False\n"
     ]
    }
   ],
   "source": [
    "s = [1, 3, 4, 5]\n",
    "print(all(s))\n",
    "\n",
    "s = [0, False]\n",
    "print(all(s))"
   ]
  },
  {
   "cell_type": "code",
   "execution_count": 2,
   "metadata": {},
   "outputs": [
    {
     "name": "stdout",
     "output_type": "stream",
     "text": [
      "<class 'enumerate'>\n",
      "[(0, 'Big Data'), (1, 'Hadoop'), (2, 'Spark'), (3, 'Data Science')]\n"
     ]
    }
   ],
   "source": [
    "BigData=['Big Data', 'Hadoop', 'Spark','Data Science']\n",
    "eData = enumerate(BigData)\n",
    "print(type(eData))\n",
    "print(list(eData))"
   ]
  },
  {
   "cell_type": "code",
   "execution_count": 3,
   "metadata": {},
   "outputs": [
    {
     "name": "stdout",
     "output_type": "stream",
     "text": [
      "(0, 'Big Data')\n",
      "(1, 'Hadoop')\n",
      "(2, 'Spark')\n",
      "(3, 'Data Science')\n"
     ]
    }
   ],
   "source": [
    "bd = ['Big Data', 'Hadoop', 'Spark','Data Science']\n",
    "for item in enumerate(bd):\n",
    "  print(item)\n"
   ]
  },
  {
   "cell_type": "code",
   "execution_count": 4,
   "metadata": {},
   "outputs": [
    {
     "name": "stdout",
     "output_type": "stream",
     "text": [
      "0 Big Data\n",
      "1 Hadoop\n",
      "2 Spark\n",
      "3 Data Science\n"
     ]
    }
   ],
   "source": [
    "bd = ['Big Data', 'Hadoop', 'Spark','Data Science']\n",
    "for count, item in enumerate(bd):\n",
    "  print(count, item)"
   ]
  },
  {
   "cell_type": "code",
   "execution_count": 5,
   "metadata": {},
   "outputs": [
    {
     "name": "stdout",
     "output_type": "stream",
     "text": [
      "100 Big Data\n",
      "101 Hadoop\n",
      "102 Spark\n",
      "103 Data Science\n"
     ]
    }
   ],
   "source": [
    "bd = ['Big Data', 'Hadoop', 'Spark','Data Science']\n",
    "for count, item in enumerate(bd, 100):\n",
    "  print(count, item)"
   ]
  },
  {
   "cell_type": "code",
   "execution_count": 6,
   "metadata": {},
   "outputs": [
    {
     "name": "stdout",
     "output_type": "stream",
     "text": [
      "[(0, 'Bob'), (1, 'Alice'), (2, 'Guido')]\n"
     ]
    }
   ],
   "source": [
    "names = ['Bob', 'Alice', 'Guido']\n",
    "print(list(enumerate(names)))"
   ]
  },
  {
   "cell_type": "code",
   "execution_count": 7,
   "metadata": {},
   "outputs": [
    {
     "name": "stdout",
     "output_type": "stream",
     "text": [
      "0: Bob\n",
      "1: Alice\n",
      "2: Guido\n"
     ]
    }
   ],
   "source": [
    "names = ['Bob', 'Alice', 'Guido']\n",
    "for index, value in enumerate(names):\n",
    "    print(f'{index}: {value}')"
   ]
  },
  {
   "cell_type": "code",
   "execution_count": 8,
   "metadata": {},
   "outputs": [
    {
     "name": "stdout",
     "output_type": "stream",
     "text": [
      "['a', 'b', 'c', 'd', 'e', 'f', 'g', 'h']\n",
      "['a', 'b', 'c', 'd', 'e', 'f', 'g', 'h']\n",
      "['a', 'b', 'f', 'h']\n"
     ]
    }
   ],
   "source": [
    "a = [\"b\", \"g\", \"a\", \"d\", \"f\", \"c\", \"h\", \"e\"]#List\n",
    "x = sorted(a)\n",
    "print(x)\n",
    "a = (\"b\", \"g\", \"a\", \"d\", \"f\", \"c\", \"h\", \"e\")#Tuple\n",
    "x = sorted(a)\n",
    "print(x)\n",
    "a = {\"b\":\"g\", \"a\":\"d\", \"f\":\"c\", \"h\":\"e\"}#Dictionary\n",
    "x = sorted(a)\n",
    "print(x)"
   ]
  },
  {
   "cell_type": "code",
   "execution_count": 9,
   "metadata": {},
   "outputs": [
    {
     "name": "stdout",
     "output_type": "stream",
     "text": [
      "['bb', 'ff', 'ggg', 'aaaa', 'dddd']\n",
      "['bb', 'ff', 'ggg', 'aaaa', 'dddd']\n",
      "['bb', 'ff', 'aaaa']\n"
     ]
    }
   ],
   "source": [
    "a = [\"bb\", \"ggg\", \"aaaa\", \"dddd\", \"ff\"]\n",
    "x = sorted(a,key=len)\n",
    "print(x)\n",
    "a = (\"bb\", \"ggg\", \"aaaa\", \"dddd\", \"ff\")\n",
    "x = sorted(a,key=len)\n",
    "print(x)\n",
    "a = {\"bb\":\"ggg\", \"aaaa\":\"d\", \"ff\":\"c\"}\n",
    "x = sorted(a,key=len)\n",
    "print(x)"
   ]
  },
  {
   "cell_type": "code",
   "execution_count": 10,
   "metadata": {},
   "outputs": [
    {
     "name": "stdout",
     "output_type": "stream",
     "text": [
      "['bb', 'ff', 'aaaa']\n",
      "['c', 'd', 'ggg']\n",
      "['aaaa', 'bb', 'ff']\n",
      "[('aaaa', 'd'), ('bb', 'ggg'), ('ff', 'c')]\n"
     ]
    }
   ],
   "source": [
    "a = {\"bb\":\"ggg\", \"aaaa\":\"d\", \"ff\":\"c\"}\n",
    "x = sorted(a,key=len)\n",
    "print(x)\n",
    "print(sorted(a.values()))\n",
    "print(sorted(a.keys()))\n",
    "print(sorted(a.items()))"
   ]
  },
  {
   "cell_type": "code",
   "execution_count": 11,
   "metadata": {},
   "outputs": [
    {
     "name": "stdout",
     "output_type": "stream",
     "text": [
      "[1, 1]\n",
      "[[1, 1], [1, 1], [1, 1], [1, 1], [1, 1]]\n",
      "[[2, 0], [2, 0], [2, 0], [2, 0]]\n"
     ]
    }
   ],
   "source": [
    "A=[1]*2\n",
    "print(A)\n",
    "B=[[1]*2]*5\n",
    "print(B)\n",
    "C=[[2,0]*1]*4\n",
    "print(C)\n"
   ]
  },
  {
   "cell_type": "code",
   "execution_count": 12,
   "metadata": {},
   "outputs": [
    {
     "name": "stdout",
     "output_type": "stream",
     "text": [
      "[[1, 1], [1, 1], [1, 1], [1, 1], [1, 1]]\n",
      "[[2, 0], [2, 0], [2, 0], [2, 0]]\n"
     ]
    }
   ],
   "source": [
    "A=[[1]*2]*5\n",
    "print(A)\n",
    "B=[[2,0]*1]*4\n",
    "print(B)"
   ]
  },
  {
   "cell_type": "code",
   "execution_count": 13,
   "metadata": {},
   "outputs": [
    {
     "name": "stdout",
     "output_type": "stream",
     "text": [
      "[2, 2, 2]\n",
      "[[2, 2, 2], [2, 2, 2]]\n",
      "[[1, 0], [1, 0], [1, 0], [1, 0], [1, 0]]\n"
     ]
    }
   ],
   "source": [
    "A=[2]*3\n",
    "print(A)\n",
    "B=[[2]*3]*2\n",
    "print(B)\n",
    "C=[[1,0]*1]*5\n",
    "print(C)"
   ]
  },
  {
   "cell_type": "code",
   "execution_count": 14,
   "metadata": {},
   "outputs": [
    {
     "name": "stdout",
     "output_type": "stream",
     "text": [
      "2\n",
      "[1, 2, 3, 4, 5, 1, 2, 3, 4, 5]\n",
      "12\n",
      "5\n",
      "[1, 2, 3, 4, 5, 1, 2, 3, 4, 5, 1, 2, 3, 4, 5]\n"
     ]
    }
   ],
   "source": [
    "A=[1,2,3,4,5]\n",
    "print(A[0]*2)\n",
    "print(A*2)\n",
    "print(A[3]*3)\n",
    "print(A[4]*1)\n",
    "print(A*3)"
   ]
  },
  {
   "cell_type": "code",
   "execution_count": 15,
   "metadata": {},
   "outputs": [
    {
     "name": "stdout",
     "output_type": "stream",
     "text": [
      "1\n",
      "2\n",
      "3\n"
     ]
    }
   ],
   "source": [
    "PyList=[1,[2,[3,[4,[5]]]]]\n",
    "print(PyList[0])\n",
    "print(PyList[1][0])\n",
    "print(PyList[1][1][0])"
   ]
  },
  {
   "cell_type": "code",
   "execution_count": 16,
   "metadata": {},
   "outputs": [
    {
     "name": "stdout",
     "output_type": "stream",
     "text": [
      "[9, 16, 25]\n"
     ]
    }
   ],
   "source": [
    "result=[x**2 for x in [3,4,5]]\n",
    "print(result)"
   ]
  },
  {
   "cell_type": "code",
   "execution_count": 17,
   "metadata": {},
   "outputs": [
    {
     "name": "stdout",
     "output_type": "stream",
     "text": [
      "[1, 2, 3, 4]\n",
      "[2, 4, 6, 8]\n",
      "[1, 4, 9, 16]\n",
      "[4, 16]\n",
      "[1, 9]\n"
     ]
    }
   ],
   "source": [
    "print([x*1 for x in [1,2,3,4]])\n",
    "print([x*2 for x in [1,2,3,4]])\n",
    "print([x**2 for x in [1,2,3,4]])\n",
    "print([x**2 for x in [1,2,3,4] if x%2==0])\n",
    "print([x**2 for x in [1,2,3,4] if x%2!=0])"
   ]
  },
  {
   "cell_type": "code",
   "execution_count": 18,
   "metadata": {},
   "outputs": [
    {
     "name": "stdout",
     "output_type": "stream",
     "text": [
      "[10, 20, 30, 40]\n"
     ]
    }
   ],
   "source": [
    "num=[1,2,3,4]\n",
    "result=[x*10 for x in num]\n",
    "print(result)\n"
   ]
  },
  {
   "cell_type": "code",
   "execution_count": 19,
   "metadata": {},
   "outputs": [
    {
     "name": "stdout",
     "output_type": "stream",
     "text": [
      "['1', '2', '3', '4', '5']\n",
      "['H', 'e', 'l', 'l', 'o']\n"
     ]
    }
   ],
   "source": [
    "print([x for x  in \"Hello12345\" if x.isdigit()])\n",
    "print([x for x  in \"Hello12345\" if x.isalpha()])"
   ]
  },
  {
   "cell_type": "code",
   "execution_count": 20,
   "metadata": {},
   "outputs": [
    {
     "name": "stdout",
     "output_type": "stream",
     "text": [
      "['HELLO', 'HAI', 'PYTHON']\n"
     ]
    }
   ],
   "source": [
    "words=['Hello',\"Hai\",'python']\n",
    "result=[x.upper() for x in words]\n",
    "print(result)"
   ]
  },
  {
   "cell_type": "code",
   "execution_count": 21,
   "metadata": {},
   "outputs": [
    {
     "name": "stdout",
     "output_type": "stream",
     "text": [
      "['S', 'L']\n"
     ]
    }
   ],
   "source": [
    "Sample_List = [\"Sample\", \"List\"]\n",
    "Result = [item[0] for item in Sample_List]\n",
    "print(Result)"
   ]
  },
  {
   "cell_type": "code",
   "execution_count": 22,
   "metadata": {},
   "outputs": [
    {
     "name": "stdout",
     "output_type": "stream",
     "text": [
      "[3, 4, 4, 5, 5, 6, 6, 7, 7, 8, 8, 9]\n"
     ]
    }
   ],
   "source": [
    "a=[1,2,3,4,5,6]\n",
    "b=[2,3]\n",
    "result=[x+y for x in a for y in b]\n",
    "print(result )"
   ]
  },
  {
   "cell_type": "code",
   "execution_count": 23,
   "metadata": {},
   "outputs": [
    {
     "name": "stdout",
     "output_type": "stream",
     "text": [
      "[1, 2, 3, 4, 5, 6]\n",
      "[1, 2, 3, 4, 5, 6]\n",
      "['NareshIT', 2, 3, 4, 5, 6]\n",
      "['NareshIT', 2, 3, 4, 5, 6]\n"
     ]
    }
   ],
   "source": [
    "myList=[1,2,3,4,5,6]\n",
    "print(myList)\n",
    "yourList=myList\n",
    "print(yourList)\n",
    "myList[0]=\"NareshIT\"\n",
    "print(myList)\n",
    "print(yourList)"
   ]
  },
  {
   "cell_type": "code",
   "execution_count": 24,
   "metadata": {},
   "outputs": [
    {
     "name": "stdout",
     "output_type": "stream",
     "text": [
      "[1, 2, 3, 4, 5, 6]\n",
      "[1, 2, 3, 4, 5, 6]\n",
      "[1, 2, 3, 4, 'PYTHON', 6]\n",
      "[1, 2, 3, 4, 5, 6]\n"
     ]
    }
   ],
   "source": [
    "import copy\n",
    "myList=[1,2,3,4,5,6]\n",
    "print(myList)\n",
    "yourList=myList\n",
    "print(yourList)\n",
    "myList=copy.copy(yourList)\n",
    "myList[4]=\"PYTHON\"\n",
    "print(myList)\n",
    "print(yourList)"
   ]
  },
  {
   "cell_type": "code",
   "execution_count": 25,
   "metadata": {},
   "outputs": [
    {
     "name": "stdout",
     "output_type": "stream",
     "text": [
      "Old list: [[1, 1, 1], [2, 2, 2], [3, 3, 3], [4, 4, 4]]\n",
      "New list: [[1, 1, 1], [2, 2, 2], [3, 3, 3]]\n"
     ]
    }
   ],
   "source": [
    "import copy\n",
    "old_list = [[1, 1, 1], [2, 2, 2], [3, 3, 3]]\n",
    "new_list = copy.copy(old_list)\n",
    "old_list.append([4, 4, 4])\n",
    "print(\"Old list:\", old_list)\n",
    "print(\"New list:\", new_list)"
   ]
  },
  {
   "cell_type": "code",
   "execution_count": 26,
   "metadata": {},
   "outputs": [
    {
     "name": "stdout",
     "output_type": "stream",
     "text": [
      "[1, 2, 3, 4, ['a', 'Hello', 'c']]\n",
      "[1, 2, 3, 4, ['a', 'b', 'c']]\n"
     ]
    }
   ],
   "source": [
    "import copy\n",
    "yourList=[1,2,3,4,['a','b','c']]\n",
    "myList=copy.deepcopy(yourList)\n",
    "myList[4][1]=\"Hello\"\n",
    "print(myList)\n",
    "print(yourList)"
   ]
  },
  {
   "cell_type": "code",
   "execution_count": 27,
   "metadata": {},
   "outputs": [
    {
     "name": "stdout",
     "output_type": "stream",
     "text": [
      "[('Hadoop', 'Bigdata'), ('Spark', 'Teradata'), ('PYTHON', 'Pandas'), ('DataScience', 'SKLearn')]\n"
     ]
    }
   ],
   "source": [
    "PyList1=[\"Hadoop\",\"Spark\",\"PYTHON\",\"DataScience\"]\n",
    "PyList2=[\"Bigdata\",\"Teradata\",\"Pandas\",\"SKLearn\"]\n",
    "z1=zip(PyList1,PyList2)\n",
    "print(list(z1))"
   ]
  },
  {
   "cell_type": "code",
   "execution_count": 28,
   "metadata": {},
   "outputs": [
    {
     "name": "stdout",
     "output_type": "stream",
     "text": [
      "[(1, 2), (2, 3)]\n",
      "((1, 2), (2, 3))\n",
      "{(2, 3), (1, 2)}\n",
      "{1: 2, 2: 3}\n"
     ]
    }
   ],
   "source": [
    "Pylist1=[1,2]\n",
    "Pylist2=[2,3]\n",
    "ziplist=zip(Pylist1,Pylist2)\n",
    "ziptuple=zip(Pylist1,Pylist2)\n",
    "zipset=zip(Pylist1,Pylist2)\n",
    "zipdict=zip(Pylist1,Pylist2)\n",
    "print(list(ziplist))\n",
    "print(tuple(ziptuple))\n",
    "print(set(zipset))\n",
    "print(dict(zipdict))\n"
   ]
  },
  {
   "cell_type": "code",
   "execution_count": 29,
   "metadata": {},
   "outputs": [
    {
     "name": "stdout",
     "output_type": "stream",
     "text": [
      "10 + 50=60\n",
      "20 + 60=80\n",
      "30 + 70=100\n",
      "40 + 80=120\n"
     ]
    }
   ],
   "source": [
    "PyList1=[10,20,30,40]\n",
    "PyList2=[50,60,70,80]\n",
    "for a,b in zip(PyList1,PyList2):\n",
    "    print('{} + {}={}'.format(a,b,a+b))"
   ]
  },
  {
   "cell_type": "code",
   "execution_count": 30,
   "metadata": {},
   "outputs": [
    {
     "name": "stdout",
     "output_type": "stream",
     "text": [
      "('Hadoop', 'Spark', 'PYTHON', 'DataScience') ('Bigdata', 'Teradata', 'Pandas', 'SKLearn')\n"
     ]
    }
   ],
   "source": [
    "PyList1=[\"Hadoop\",\"Spark\",\"PYTHON\",\"DataScience\"]\n",
    "PyList2=[\"Bigdata\",\"Teradata\",\"Pandas\",\"SKLearn\"]\n",
    "z1=zip(PyList1,PyList2)\n",
    "z2=zip(*z1)\n",
    "print(*z2)"
   ]
  },
  {
   "cell_type": "code",
   "execution_count": 31,
   "metadata": {},
   "outputs": [
    {
     "name": "stdout",
     "output_type": "stream",
     "text": [
      "['Banana', 'Mango', 'Grapes']\n",
      "['Apple', 'Banana', 'Mango']\n",
      "['Banana', 'Mango', 'Grapes', 'Orange']\n",
      "['Mango', 'Grapes']\n"
     ]
    }
   ],
   "source": [
    "PyFruits=[\"Apple\", \"Banana\", \"Mango\", \"Grapes\", \"Orange\"]\n",
    "print(PyFruits[1:4])\n",
    "print(PyFruits[ :3])\n",
    "print(PyFruits[-4:])\n",
    "print(PyFruits[-3:-1])"
   ]
  },
  {
   "cell_type": "code",
   "execution_count": 32,
   "metadata": {},
   "outputs": [
    {
     "name": "stdout",
     "output_type": "stream",
     "text": [
      "<class 'tuple'>\n",
      "a\n",
      "[1, 2]\n",
      "2\n",
      "('a', [1, '4'])\n"
     ]
    }
   ],
   "source": [
    "MyTuple=('a',[1,2])\n",
    "print(type(MyTuple))\n",
    "print(MyTuple[0])\n",
    "print(MyTuple[1])\n",
    "print(MyTuple[1][1])\n",
    "MyTuple[1][1]='4'\n",
    "print(MyTuple)"
   ]
  },
  {
   "cell_type": "code",
   "execution_count": 33,
   "metadata": {},
   "outputs": [
    {
     "name": "stdout",
     "output_type": "stream",
     "text": [
      "(5, 4)\n",
      "(2, 4, 3, 5, 4, 6)\n",
      "(6, 7, 8, 6, 1)\n",
      "(2, 4, 3, 5, 4, 6, 7, 8, 6, 1)\n",
      "(3, 5, 4, 6)\n"
     ]
    }
   ],
   "source": [
    "PyTuple = (2, 4, 3, 5, 4, 6, 7, 8, 6, 1)   \n",
    "print(PyTuple[3:5])\n",
    "print(PyTuple[:6])\n",
    "print(PyTuple[5:])\n",
    "print(PyTuple[:])\n",
    "print(PyTuple[-8:-4])"
   ]
  },
  {
   "cell_type": "code",
   "execution_count": 34,
   "metadata": {},
   "outputs": [
    {
     "name": "stdout",
     "output_type": "stream",
     "text": [
      "{0, 1, 2, 3, 4, 40, 10, 50, 20, 60, 30}\n"
     ]
    }
   ],
   "source": [
    "A={10,20,30}; B=[40,50,60,10]\n",
    "A.update(B,range(5))\n",
    "print(A)\n"
   ]
  },
  {
   "cell_type": "code",
   "execution_count": 39,
   "metadata": {},
   "outputs": [
    {
     "name": "stdout",
     "output_type": "stream",
     "text": [
      "1 2 3\n"
     ]
    }
   ],
   "source": [
    "def fun(a,b,c):\n",
    "  print(a,b,c)\n",
    "fun(c=3,b=2,a=1)\n"
   ]
  },
  {
   "cell_type": "code",
   "execution_count": 40,
   "metadata": {},
   "outputs": [
    {
     "name": "stdout",
     "output_type": "stream",
     "text": [
      "The square of the sum of 2 and 3 is :  8\n",
      "The square of the sum of 2 and 3 is :  20\n"
     ]
    }
   ],
   "source": [
    "def nsquare(x, y = 2):  \n",
    "    return (x*x+y*y)  \n",
    "print(\"The square of the sum of 2 and 3 is : \", nsquare(2))  \n",
    "print(\"The square of the sum of 2 and 3 is : \", nsquare(2,4))"
   ]
  },
  {
   "cell_type": "code",
   "execution_count": 41,
   "metadata": {},
   "outputs": [
    {
     "name": "stdout",
     "output_type": "stream",
     "text": [
      "Name:  KSRaju\n",
      "Experience:  14\n",
      "Name:  NareshIT\n",
      "Experience:  15+\n"
     ]
    }
   ],
   "source": [
    "def printinfo( name, exp = '15+' ):\n",
    "    print(\"Name: \", name)\n",
    "    print(\"Experience: \", exp)\n",
    "    return;\n",
    "printinfo( exp=14, name=\"KSRaju\" )\n",
    "printinfo( name=\"NareshIT\" )"
   ]
  },
  {
   "cell_type": "code",
   "execution_count": 42,
   "metadata": {},
   "outputs": [
    {
     "name": "stdout",
     "output_type": "stream",
     "text": [
      "71 77 80\n",
      "65 85 74\n",
      "70 90 75\n"
     ]
    }
   ],
   "source": [
    "def Scores(BigData,Hadoop=85,Spark=80):  \n",
    "    print(BigData,Hadoop,Spark)  \n",
    "Scores(71,77)  \n",
    "Scores(65,Spark=74)  \n",
    "Scores(BigData=70,Hadoop=90,Spark=75) \n"
   ]
  },
  {
   "cell_type": "code",
   "execution_count": 43,
   "metadata": {},
   "outputs": [
    {
     "name": "stdout",
     "output_type": "stream",
     "text": [
      "1\n",
      "2\n",
      "3\n",
      "4\n"
     ]
    }
   ],
   "source": [
    "def fun(*arr):\n",
    "  for val in arr:\n",
    "    print(val)\n",
    "fun(1,2,3,4)"
   ]
  },
  {
   "cell_type": "code",
   "execution_count": 44,
   "metadata": {},
   "outputs": [
    {
     "name": "stdout",
     "output_type": "stream",
     "text": [
      "70\n",
      "60\n",
      "50\n"
     ]
    }
   ],
   "source": [
    "def fun1(*var):\n",
    "   for x in var:\n",
    "      print(x)\n",
    "fun( 70, 60, 50 )"
   ]
  },
  {
   "cell_type": "code",
   "execution_count": 45,
   "metadata": {},
   "outputs": [
    {
     "ename": "ModuleNotFoundError",
     "evalue": "No module named 'modulethree'",
     "output_type": "error",
     "traceback": [
      "\u001b[1;31m---------------------------------------------------------------------------\u001b[0m",
      "\u001b[1;31mModuleNotFoundError\u001b[0m                       Traceback (most recent call last)",
      "Cell \u001b[1;32mIn[45], line 1\u001b[0m\n\u001b[1;32m----> 1\u001b[0m \u001b[38;5;28;01mimport\u001b[39;00m \u001b[38;5;21;01mmodulethree\u001b[39;00m \u001b[38;5;28;01mas\u001b[39;00m \u001b[38;5;21;01mmt\u001b[39;00m\n\u001b[0;32m      2\u001b[0m Sum\u001b[38;5;241m=\u001b[39mmt\u001b[38;5;241m.\u001b[39madd(\u001b[38;5;241m10\u001b[39m,\u001b[38;5;241m20\u001b[39m)\n\u001b[0;32m      3\u001b[0m \u001b[38;5;28mprint\u001b[39m(\u001b[38;5;124m\"\u001b[39m\u001b[38;5;124mSum of the numbers is: \u001b[39m\u001b[38;5;124m\"\u001b[39m ,Sum)\n",
      "\u001b[1;31mModuleNotFoundError\u001b[0m: No module named 'modulethree'"
     ]
    }
   ],
   "source": [
    "import modulethree as mt\n",
    "Sum=mt.add(10,20)\n",
    "print(\"Sum of the numbers is: \" ,Sum)\n",
    "dif=mt.sub(20,10)\n",
    "print(\"Difference of the numbers is: \" ,dif)\n",
    "prd=mt.prod(10,10)\n",
    "print(\"Difference of the numbers is: \" ,prd)"
   ]
  },
  {
   "cell_type": "code",
   "execution_count": 46,
   "metadata": {},
   "outputs": [
    {
     "name": "stdout",
     "output_type": "stream",
     "text": [
      "BigData Hadoop Spark Data Science\n",
      "BigData Data Science\n"
     ]
    }
   ],
   "source": [
    "a=\"BigData\"\n",
    "b=\"Hadoop\"\n",
    "c=\"Spark\"\n",
    "d=\"Data Science\"\n",
    "print(a,b,c,d)\n",
    "print(a,d)"
   ]
  },
  {
   "cell_type": "code",
   "execution_count": 52,
   "metadata": {},
   "outputs": [],
   "source": [
    "def Add1(a,b):\n",
    "    return(a+b)\n",
    "def Sub1(a,b):\n",
    "    return(a-b)\n",
    "def Pro1(a,b):\n",
    "    return(a*b)\n",
    "def Div1(a,b):\n",
    "    return(a/b)\n",
    "def FDiv1(a,b):\n",
    "    return(a//b)"
   ]
  },
  {
   "cell_type": "code",
   "execution_count": 53,
   "metadata": {},
   "outputs": [
    {
     "name": "stdout",
     "output_type": "stream",
     "text": [
      "45\n",
      "100.12\n"
     ]
    }
   ],
   "source": [
    "print(abs(-45))\n",
    "print(abs(100.12))"
   ]
  },
  {
   "cell_type": "code",
   "execution_count": 54,
   "metadata": {},
   "outputs": [
    {
     "name": "stdout",
     "output_type": "stream",
     "text": [
      "-45\n",
      "101\n",
      "101\n"
     ]
    }
   ],
   "source": [
    "import math \n",
    "print(math.ceil(-45.17))\n",
    "print (math.ceil(100.12))\n",
    "print (math.ceil(100.72))\n"
   ]
  },
  {
   "cell_type": "code",
   "execution_count": 55,
   "metadata": {},
   "outputs": [
    {
     "ename": "AttributeError",
     "evalue": "'list' object has no attribute 'enumurate'",
     "output_type": "error",
     "traceback": [
      "\u001b[1;31m---------------------------------------------------------------------------\u001b[0m",
      "\u001b[1;31mAttributeError\u001b[0m                            Traceback (most recent call last)",
      "Cell \u001b[1;32mIn[55], line 3\u001b[0m\n\u001b[0;32m      1\u001b[0m x\u001b[38;5;241m=\u001b[39m[\u001b[38;5;241m1\u001b[39m,\u001b[38;5;241m2\u001b[39m,\u001b[38;5;241m3\u001b[39m]\n\u001b[0;32m      2\u001b[0m \u001b[38;5;28;01mfor\u001b[39;00m i \u001b[38;5;129;01min\u001b[39;00m x:\n\u001b[1;32m----> 3\u001b[0m     \u001b[38;5;28mprint\u001b[39m(\u001b[43mx\u001b[49m\u001b[38;5;241;43m.\u001b[39;49m\u001b[43menumurate\u001b[49m)\n",
      "\u001b[1;31mAttributeError\u001b[0m: 'list' object has no attribute 'enumurate'"
     ]
    }
   ],
   "source": []
  },
  {
   "cell_type": "code",
   "execution_count": 56,
   "metadata": {},
   "outputs": [
    {
     "name": "stdout",
     "output_type": "stream",
     "text": [
      "Try Block:Enter Number is:  5\n"
     ]
    }
   ],
   "source": [
    "try:\n",
    "  x=int(input(\"Enter a value: \"))\n",
    "  print(\"Try Block:Enter Number is: \",x)\n",
    "except ValueError:\n",
    "  print(\"ExceptBlock:Invalid Input Enter Only Numbers\");\n"
   ]
  },
  {
   "cell_type": "code",
   "execution_count": 57,
   "metadata": {},
   "outputs": [
    {
     "name": "stdout",
     "output_type": "stream",
     "text": [
      "You can't divide by zero.\n",
      "Error:  division by zero\n"
     ]
    }
   ],
   "source": [
    "try:\n",
    "  x=int(input(\"Enter Required Number: \"))\n",
    "  y=int(input(\"Enter Required Number: \"))\n",
    "  print(\"The Result is: \",x/y)\n",
    "except Exception as arg:\n",
    "    print(\"You can't divide by zero.\")\n",
    "    print('Error: ', arg)"
   ]
  },
  {
   "cell_type": "code",
   "execution_count": 58,
   "metadata": {},
   "outputs": [
    {
     "name": "stdout",
     "output_type": "stream",
     "text": [
      "The Result is:  4.0\n"
     ]
    }
   ],
   "source": [
    "try:\n",
    "  x=int(input(\"Enter Required Number: \"))\n",
    "  y=int(input(\"Enter Required Number: \"))\n",
    "  print(\"The Result is: \",x/y)\n",
    "except Exception as arg:\n",
    "    print(\"You can't divide by zero.\")\n",
    "    print('Error: ', arg)"
   ]
  },
  {
   "cell_type": "code",
   "execution_count": 60,
   "metadata": {},
   "outputs": [
    {
     "name": "stdout",
     "output_type": "stream",
     "text": [
      "The Value is:  0\n",
      "TryBlockIsExecuted:\n"
     ]
    }
   ],
   "source": [
    "try:\n",
    "    p=int(input(\"Enter Any Number: \"))\n",
    "    q=int(input(\"Enter Any Number: \"))\n",
    "    r=p/q\n",
    "    print(\"The Value is: \",int(r))\n",
    "    print(\"TryBlockIsExecuted:\")\n",
    "except ValueError:\n",
    "    print(\"ExceptBlock\")\n",
    "    print(\"Sorry User Numbers Only Valid\")\n",
    "except Exception as arg:\n",
    "    print(\"You can't divide by zero.\")\n",
    "    print('Error: ', arg)"
   ]
  },
  {
   "cell_type": "code",
   "execution_count": 61,
   "metadata": {},
   "outputs": [
    {
     "name": "stdout",
     "output_type": "stream",
     "text": [
      "File Not Existed Please Create\n"
     ]
    }
   ],
   "source": [
    "try:\n",
    "    fi=open(\"Hai1.txt\",'r')\n",
    "    print(fi.read(6))\n",
    "except IOError:\n",
    "    print(\"File Not Existed Please Create\")\n",
    "else:\n",
    "    print(\"ContentReadSuccessfully\")\n",
    "    fi.close()\n"
   ]
  },
  {
   "cell_type": "code",
   "execution_count": 62,
   "metadata": {},
   "outputs": [
    {
     "name": "stdout",
     "output_type": "stream",
     "text": [
      "<class 'function'>\n"
     ]
    }
   ],
   "source": [
    "def Hello():\n",
    "    print(\"Wish Programmers\")\n",
    "print(type(Hello))"
   ]
  },
  {
   "cell_type": "code",
   "execution_count": 65,
   "metadata": {},
   "outputs": [
    {
     "ename": "TabError",
     "evalue": "inconsistent use of tabs and spaces in indentation (1455693342.py, line 3)",
     "output_type": "error",
     "traceback": [
      "\u001b[1;36m  Cell \u001b[1;32mIn[65], line 3\u001b[1;36m\u001b[0m\n\u001b[1;33m    pass\u001b[0m\n\u001b[1;37m    ^\u001b[0m\n\u001b[1;31mTabError\u001b[0m\u001b[1;31m:\u001b[0m inconsistent use of tabs and spaces in indentation\n"
     ]
    }
   ],
   "source": [
    "class Account:\n",
    "    #\"\"\"This is docstring, explains brief about the class\"\"\"\n",
    "\tpass\n",
    "sb_account=Account()\n",
    "current_account=Account()"
   ]
  },
  {
   "cell_type": "code",
   "execution_count": 66,
   "metadata": {},
   "outputs": [
    {
     "name": "stdout",
     "output_type": "stream",
     "text": [
      "<class '__main__.Car'>\n",
      "<class 'type'>\n",
      "Car\n",
      "None\n"
     ]
    }
   ],
   "source": [
    "class Car():\n",
    "    pass\n",
    "print(Car)\n",
    "print(type(Car))\n",
    "print(Car.__name__)\n",
    "print(Car.__doc__)"
   ]
  },
  {
   "cell_type": "code",
   "execution_count": 68,
   "metadata": {},
   "outputs": [
    {
     "name": "stdout",
     "output_type": "stream",
     "text": [
      "Deposited $500.0. New balance: $1500.0\n",
      "Withdrew $200.0. New balance: $1300.0\n",
      "Account Holder: John Doe\n",
      "Balance: $1300.0\n"
     ]
    }
   ],
   "source": [
    "class BankAccount:\n",
    "    def __init__(self, account_holder, balance=0.0):\n",
    "        self.account_holder = account_holder\n",
    "        self.balance = balance\n",
    "\n",
    "    def deposit(self, amount):\n",
    "        if amount > 0:\n",
    "            self.balance += amount\n",
    "            print(f\"Deposited ${amount}. New balance: ${self.balance}\")\n",
    "        else:\n",
    "            print(\"Invalid deposit amount.\")\n",
    "\n",
    "    def withdraw(self, amount):\n",
    "        if 0 < amount <= self.balance:\n",
    "            self.balance -= amount\n",
    "            print(f\"Withdrew ${amount}. New balance: ${self.balance}\")\n",
    "        else:\n",
    "            print(\"Invalid withdrawal amount or insufficient funds.\")\n",
    "\n",
    "    def get_balance(self):\n",
    "        return self.balance\n",
    "\n",
    "    def display_account_info(self):\n",
    "        print(f\"Account Holder: {self.account_holder}\")\n",
    "        print(f\"Balance: ${self.balance}\")\n",
    "\n",
    "\n",
    "# Example usage:\n",
    "\n",
    "# Create an account\n",
    "john_account = BankAccount(account_holder=\"John Doe\", balance=1000.0)\n",
    "\n",
    "# Deposit money\n",
    "john_account.deposit(500.0)\n",
    "\n",
    "# Withdraw money\n",
    "john_account.withdraw(200.0)\n",
    "\n",
    "# Display account information\n",
    "john_account.display_account_info()\n"
   ]
  },
  {
   "cell_type": "code",
   "execution_count": 69,
   "metadata": {},
   "outputs": [
    {
     "name": "stdout",
     "output_type": "stream",
     "text": [
      "Order ID: 1\n",
      "Customer ID: 1\n",
      "Name: John Doe\n",
      "Email: john@example.com\n",
      "\n",
      "Products in the order:\n",
      "Product ID: 1\n",
      "Name: Laptop\n",
      "Price: $1200.0\n",
      "Product ID: 1\n",
      "Name: Laptop\n",
      "Price: $1200.0\n",
      "Product ID: 2\n",
      "Name: Mouse\n",
      "Price: $20.0\n",
      "\n",
      "Total: $2420.0\n"
     ]
    }
   ],
   "source": [
    "class Product:\n",
    "    def __init__(self, product_id, name, price):\n",
    "        self.product_id = product_id\n",
    "        self.name = name\n",
    "        self.price = price\n",
    "\n",
    "    def display_product_info(self):\n",
    "        print(f\"Product ID: {self.product_id}\")\n",
    "        print(f\"Name: {self.name}\")\n",
    "        print(f\"Price: ${self.price}\")\n",
    "\n",
    "\n",
    "class Customer:\n",
    "    def __init__(self, customer_id, name, email):\n",
    "        self.customer_id = customer_id\n",
    "        self.name = name\n",
    "        self.email = email\n",
    "\n",
    "    def display_customer_info(self):\n",
    "        print(f\"Customer ID: {self.customer_id}\")\n",
    "        print(f\"Name: {self.name}\")\n",
    "        print(f\"Email: {self.email}\")\n",
    "\n",
    "\n",
    "class Order:\n",
    "    def __init__(self, order_id, customer, products=None):\n",
    "        self.order_id = order_id\n",
    "        self.customer = customer\n",
    "        self.products = products or []\n",
    "\n",
    "    def add_product(self, product, quantity=1):\n",
    "        for _ in range(quantity):\n",
    "            self.products.append(product)\n",
    "\n",
    "    def calculate_total(self):\n",
    "        total = sum(product.price for product in self.products)\n",
    "        return total\n",
    "\n",
    "    def display_order_summary(self):\n",
    "        print(f\"Order ID: {self.order_id}\")\n",
    "        self.customer.display_customer_info()\n",
    "        print(\"\\nProducts in the order:\")\n",
    "        for product in self.products:\n",
    "            product.display_product_info()\n",
    "        print(f\"\\nTotal: ${self.calculate_total()}\")\n",
    "\n",
    "\n",
    "# Example usage:\n",
    "\n",
    "# Create products\n",
    "product1 = Product(product_id=1, name=\"Laptop\", price=1200.0)\n",
    "product2 = Product(product_id=2, name=\"Mouse\", price=20.0)\n",
    "\n",
    "# Create a customer\n",
    "customer = Customer(customer_id=1, name=\"John Doe\", email=\"john@example.com\")\n",
    "\n",
    "# Create an order\n",
    "order = Order(order_id=1, customer=customer)\n",
    "\n",
    "# Add products to the order\n",
    "order.add_product(product1, quantity=2)\n",
    "order.add_product(product2)\n",
    "\n",
    "# Display order summary\n",
    "order.display_order_summary()\n"
   ]
  },
  {
   "cell_type": "code",
   "execution_count": 1,
   "metadata": {},
   "outputs": [
    {
     "name": "stdout",
     "output_type": "stream",
     "text": [
      "Blog ID: 1\n",
      "Name: Tech Blog\n",
      "\n",
      "Posts in the blog:\n",
      "Post ID: 1\n",
      "Title: Introduction to Python\n",
      "Content: Python is a powerful programming language.\n",
      "Author: Alice Author\n",
      "Date Published: 2023-01-01\n",
      "Post ID: 2\n",
      "Title: Web Development with Django\n",
      "Content: Django is a web framework for Python.\n",
      "Author: Bob Blogger\n",
      "Date Published: 2023-02-01\n"
     ]
    }
   ],
   "source": [
    "class Author:\n",
    "    def __init__(self, author_id, name, email):\n",
    "        self.author_id = author_id\n",
    "        self.name = name\n",
    "        self.email = email\n",
    "\n",
    "    def display_author_info(self):\n",
    "        print(f\"Author ID: {self.author_id}\")\n",
    "        print(f\"Name: {self.name}\")\n",
    "        print(f\"Email: {self.email}\")\n",
    "\n",
    "\n",
    "class Post:\n",
    "    def __init__(self, post_id, title, content, author, date_published):\n",
    "        self.post_id = post_id\n",
    "        self.title = title\n",
    "        self.content = content\n",
    "        self.author = author\n",
    "        self.date_published = date_published\n",
    "\n",
    "    def display_post_info(self):\n",
    "        print(f\"Post ID: {self.post_id}\")\n",
    "        print(f\"Title: {self.title}\")\n",
    "        print(f\"Content: {self.content}\")\n",
    "        print(f\"Author: {self.author.name}\")\n",
    "        print(f\"Date Published: {self.date_published}\")\n",
    "\n",
    "\n",
    "class Blog:\n",
    "    def __init__(self, blog_id, name, posts=None):\n",
    "        self.blog_id = blog_id\n",
    "        self.name = name\n",
    "        self.posts = posts or []\n",
    "\n",
    "    def add_post(self, post):\n",
    "        self.posts.append(post)\n",
    "\n",
    "    def display_blog_info(self):\n",
    "        print(f\"Blog ID: {self.blog_id}\")\n",
    "        print(f\"Name: {self.name}\")\n",
    "        print(\"\\nPosts in the blog:\")\n",
    "        for post in self.posts:\n",
    "            post.display_post_info()\n",
    "\n",
    "\n",
    "# Example usage:\n",
    "\n",
    "# Create authors\n",
    "author1 = Author(author_id=1, name=\"Alice Author\", email=\"alice@example.com\")\n",
    "author2 = Author(author_id=2, name=\"Bob Blogger\", email=\"bob@example.com\")\n",
    "\n",
    "# Create posts\n",
    "post1 = Post(post_id=1, title=\"Introduction to Python\", content=\"Python is a powerful programming language.\", author=author1, date_published=\"2023-01-01\")\n",
    "post2 = Post(post_id=2, title=\"Web Development with Django\", content=\"Django is a web framework for Python.\", author=author2, date_published=\"2023-02-01\")\n",
    "\n",
    "# Create a blog\n",
    "blog = Blog(blog_id=1, name=\"Tech Blog\")\n",
    "\n",
    "# Add posts to the blog\n",
    "blog.add_post(post1)\n",
    "blog.add_post(post2)\n",
    "\n",
    "# Display blog information\n",
    "blog.display_blog_info()\n"
   ]
  },
  {
   "cell_type": "markdown",
   "metadata": {},
   "source": [
    "PYTHON OOPS CONCEPTS"
   ]
  },
  {
   "cell_type": "code",
   "execution_count": 1,
   "metadata": {},
   "outputs": [
    {
     "ename": "SyntaxError",
     "evalue": "invalid decimal literal (3287714543.py, line 12)",
     "output_type": "error",
     "traceback": [
      "\u001b[1;36m  Cell \u001b[1;32mIn[1], line 12\u001b[1;36m\u001b[0m\n\u001b[1;33m    1. Class\t\t2. Object\t\t3.Inheritance\t4.Polymorphism \t5.Encapsulation 6.Abstraction\u001b[0m\n\u001b[1;37m            \t\t         \t\t ^\u001b[0m\n\u001b[1;31mSyntaxError\u001b[0m\u001b[1;31m:\u001b[0m invalid decimal literal\n"
     ]
    }
   ],
   "source": [
    "WORKING WITH PYTHON OOPs\n",
    "PYTHON Object Oriented Programming System:(OOPs)\n",
    "\n",
    "Python is truely object oriented programming language. In Python everything is an Object like:classes, objects, \n",
    "functions, methods, modules etc..These can passed as arguments to functions or assign to variables.\n",
    "\n",
    "OOPS Principles\n",
    "\n",
    "Oops are the rules (or) guidelines which are supposed to be satisfied by any programming language in order to \n",
    "call that programming language as oopl. Different oops principles are:\n",
    "\n",
    "1. Class\t\t2. Object\t\t3.Inheritance\t4.Polymorphism \t5.Encapsulation 6.Abstraction\n"
   ]
  },
  {
   "cell_type": "markdown",
   "metadata": {},
   "source": [
    "1. Class\n",
    "\n",
    "Define Class?\n",
    "Class can be described as :\n",
    "1 Pre-defined keyword.\n",
    "2 Class is Template or Blue print for Objects\n",
    "3 Collections of variables and methods\n",
    "4 Collection of objects that has common properties \n",
    "\n",
    "\n",
    "Example:\n",
    "Class Name ==> Phone\n",
    "Rotary Phone\tCellular Phone\t\n",
    "Mobile Phone\tTouch Phone\n",
    "\n",
    "\n",
    "NOTE:\n",
    "Class Name should starts with Capital letter, It is convention in PYTHON\n",
    "\n",
    "Define Object?\n",
    "Collection of data and its functionality.\n",
    "OR\n",
    "It is an entity that has states & behaviors is known as Object.\n",
    "OR\n",
    "An Object is an instance of class, which contains attributes & methods"
   ]
  },
  {
   "cell_type": "markdown",
   "metadata": {},
   "source": []
  },
  {
   "cell_type": "code",
   "execution_count": 2,
   "metadata": {},
   "outputs": [
    {
     "ename": "SyntaxError",
     "evalue": "invalid syntax (2098518563.py, line 2)",
     "output_type": "error",
     "traceback": [
      "\u001b[1;36m  Cell \u001b[1;32mIn[2], line 2\u001b[1;36m\u001b[0m\n\u001b[1;33m    The variable which can be used to refer object is called reference variable. By using reference variable, we can access properties and methods of object.\u001b[0m\n\u001b[1;37m        ^\u001b[0m\n\u001b[1;31mSyntaxError\u001b[0m\u001b[1;31m:\u001b[0m invalid syntax\n"
     ]
    }
   ],
   "source": [
    "Define Reference Variable?\n",
    "The variable which can be used to refer object is called reference variable. By using reference variable, we can access properties and methods of object.\n",
    "\n",
    "NOTE: \n",
    "State means Properties/Attributes, Behaviour means methods/functionalities.\n",
    "\n",
    "Example:\n",
    "Object1: Human\n",
    "Identity: Midhun\n",
    "Properties: Color, Height, Weight\n",
    "Functionalities: walk () , see() , run() ....\n"
   ]
  },
  {
   "cell_type": "code",
   "execution_count": 4,
   "metadata": {},
   "outputs": [
    {
     "name": "stdout",
     "output_type": "stream",
     "text": [
      "<__main__.MyBank_SBI object at 0x0000018BE7558C10>\n",
      "<__main__.MyBank_AB object at 0x0000018BE7567910>\n",
      "<__main__.MyBank_HDFC object at 0x0000018BE7566800>\n"
     ]
    }
   ],
   "source": [
    "#Example:\n",
    "class MyBank_SBI():\n",
    "           pass\n",
    "class MyBank_AB:\n",
    "          pass\n",
    "class MyBank_HDFC(object):\n",
    "          pass\n",
    "#SS is an Object or Instance\n",
    "SS=MyBank_SBI()\n",
    "print(SS)\n",
    "#AA is an Object or Instance\n",
    "AA=MyBank_AB()\n",
    "print(AA)\n",
    "#HH is an Object or Instance\n",
    "HH=MyBank_HDFC()\n",
    "print(HH)\n"
   ]
  },
  {
   "cell_type": "markdown",
   "metadata": {},
   "source": [
    "NOTE:\n",
    "Instance indicates relationship between an Object to its Class (Instanace means reference)\n"
   ]
  },
  {
   "cell_type": "code",
   "execution_count": 5,
   "metadata": {},
   "outputs": [
    {
     "name": "stdout",
     "output_type": "stream",
     "text": [
      "Welcome to Banking\n",
      "<__main__.Banking object at 0x0000018BE7559B70>\n"
     ]
    }
   ],
   "source": [
    "class Banking():\n",
    "    #Class Body or Logic\n",
    "    print(\"Welcome to Banking\")\n",
    "#Creating Instance or Object\n",
    "#Driver Code\n",
    "BB=Banking()\n",
    "print(BB)#display the address of Object or Instance"
   ]
  },
  {
   "cell_type": "markdown",
   "metadata": {},
   "source": []
  },
  {
   "cell_type": "code",
   "execution_count": 6,
   "metadata": {},
   "outputs": [
    {
     "ename": "TypeError",
     "evalue": "Banking.MyCustomer() takes 0 positional arguments but 1 was given",
     "output_type": "error",
     "traceback": [
      "\u001b[1;31m---------------------------------------------------------------------------\u001b[0m",
      "\u001b[1;31mTypeError\u001b[0m                                 Traceback (most recent call last)",
      "Cell \u001b[1;32mIn[6], line 9\u001b[0m\n\u001b[0;32m      7\u001b[0m \u001b[38;5;66;03m#Driver Code\u001b[39;00m\n\u001b[0;32m      8\u001b[0m BB\u001b[38;5;241m=\u001b[39mBanking()\n\u001b[1;32m----> 9\u001b[0m \u001b[43mBB\u001b[49m\u001b[38;5;241;43m.\u001b[39;49m\u001b[43mMyCustomer\u001b[49m\u001b[43m(\u001b[49m\u001b[43m)\u001b[49m\n",
      "\u001b[1;31mTypeError\u001b[0m: Banking.MyCustomer() takes 0 positional arguments but 1 was given"
     ]
    }
   ],
   "source": [
    "class Banking():\n",
    "#It is a Method of Member\n",
    "#Class inside all are members\n",
    "    def MyCustomer():\n",
    "        print(\"Welcome to Banking\")\n",
    "        return()\n",
    "#Driver Code\n",
    "BB=Banking()\n",
    "BB.MyCustomer()\n",
    "#TypeError: MyCustomer() takes 0 positional arguments but 1 was given"
   ]
  },
  {
   "cell_type": "markdown",
   "metadata": {},
   "source": [
    "Self variable:\n",
    "self is the default variable which is always pointing to current object (like this keyword in JAVA) By using self we can access instance variables and instance methods of object."
   ]
  },
  {
   "cell_type": "code",
   "execution_count": 7,
   "metadata": {},
   "outputs": [
    {
     "name": "stdout",
     "output_type": "stream",
     "text": [
      "Welcome to Banking\n"
     ]
    },
    {
     "data": {
      "text/plain": [
       "()"
      ]
     },
     "execution_count": 7,
     "metadata": {},
     "output_type": "execute_result"
    }
   ],
   "source": [
    "class Banking():\n",
    "    def MyCustomer(self):\n",
    "        print(\"Welcome to Banking\")\n",
    "        return()\n",
    "#Driver Code\n",
    "BB=Banking()\n",
    "BB.MyCustomer()\n"
   ]
  },
  {
   "cell_type": "code",
   "execution_count": 8,
   "metadata": {},
   "outputs": [],
   "source": [
    "class Human():\n",
    "    \"This class demonstrates the creation of Objects\"\n",
    "    #Instance Attributes\n",
    "    num=100\n",
    "    #Instance Method\n",
    "    def EampleMethod(self):\n",
    "        print(\"I am a method inside the class\")"
   ]
  },
  {
   "cell_type": "code",
   "execution_count": 9,
   "metadata": {},
   "outputs": [
    {
     "name": "stdout",
     "output_type": "stream",
     "text": [
      "100\n",
      "I am a method inside the class\n",
      "This class demonstrates the creation of Objects\n",
      "Help on class Human in module __main__:\n",
      "\n",
      "class Human(builtins.object)\n",
      " |  This class demonstrates the creation of Objects\n",
      " |  \n",
      " |  Methods defined here:\n",
      " |  \n",
      " |  EampleMethod(self)\n",
      " |      #Instance Method\n",
      " |  \n",
      " |  ----------------------------------------------------------------------\n",
      " |  Data descriptors defined here:\n",
      " |  \n",
      " |  __dict__\n",
      " |      dictionary for instance variables (if defined)\n",
      " |  \n",
      " |  __weakref__\n",
      " |      list of weak references to the object (if defined)\n",
      " |  \n",
      " |  ----------------------------------------------------------------------\n",
      " |  Data and other attributes defined here:\n",
      " |  \n",
      " |  num = 100\n",
      "\n",
      "None\n"
     ]
    }
   ],
   "source": [
    "#Creating Object or Instance of Human Class\n",
    "HH=Human()\n",
    "print(HH.num)\n",
    "#Calling Method\n",
    "HH.EampleMethod()\n",
    "print(Human.__doc__)\n",
    "print(help(Human))"
   ]
  },
  {
   "cell_type": "markdown",
   "metadata": {},
   "source": [
    "OOPS IN PYTHON:\n",
    "\n",
    "1. Classes and objects\n",
    "\n",
    "2. Inheritance\n",
    "\n",
    "3. Polymorphism\n",
    "\n",
    "4. Abstraction\n",
    "\n",
    "5. Encapsulation\n",
    "\n"
   ]
  },
  {
   "cell_type": "markdown",
   "metadata": {},
   "source": [
    "Python Class\n",
    "\n",
    "1. Is a blueprint, architecture, design, planning \n",
    "\n",
    "2. Object is the base class in python\n",
    "\n",
    "3. Class keyword is used to create a class\n",
    "\n",
    "4. python constructure is defined with __init__() method\n",
    "\n",
    "5. python does't support multiple constructors in a class i.e No constructor overloading \n"
   ]
  },
  {
   "cell_type": "code",
   "execution_count": 1,
   "metadata": {},
   "outputs": [
    {
     "name": "stdout",
     "output_type": "stream",
     "text": [
      "This is class\n"
     ]
    }
   ],
   "source": [
    " \n",
    "class Kiran():\n",
    "    print(\"This is class\")\n"
   ]
  },
  {
   "cell_type": "code",
   "execution_count": 5,
   "metadata": {},
   "outputs": [
    {
     "name": "stdout",
     "output_type": "stream",
     "text": [
      "This is class\n",
      "10 12\n",
      "12\n"
     ]
    }
   ],
   "source": [
    " \n",
    "class Kiran():\n",
    "    d=12\n",
    "    print(\"This is class\")\n",
    "    def display(self):\n",
    "        a=10\n",
    "        b=12\n",
    "        print(a,b)\n",
    "    #display()\n",
    "        # in class we have to create a object to calling a class\n",
    "obj=Kiran()\n",
    "obj.display()\n",
    "print(obj.d)"
   ]
  },
  {
   "cell_type": "code",
   "execution_count": 16,
   "metadata": {},
   "outputs": [
    {
     "name": "stdout",
     "output_type": "stream",
     "text": [
      "brand: apple\n",
      "battery: 4000mah\n",
      "ram: 8gp\n",
      "camera 48mp\n",
      "price: 9000\n",
      "----------------------\n",
      "brand: oneplus\n",
      "battery: 7000mah\n",
      "ram: 16gp\n",
      "camera 80mp\n",
      "price: 12000\n",
      "----------------------\n",
      "brand: apple\n",
      "battery: 4000mah\n",
      "ram: 8gp\n",
      "camera 48mp\n",
      "price: 9000\n",
      "----------------------\n",
      "brand: oneplus\n",
      "battery: 7000mah\n",
      "ram: 16gp\n",
      "camera 80mp\n",
      "price: 12000\n",
      "----------------------\n",
      "brand: apple\n",
      "battery: 4000mah\n",
      "ram: 8gp\n",
      "camera 48mp\n",
      "price: 9000\n",
      "----------------------\n",
      "brand: oneplus\n",
      "battery: 7000mah\n",
      "ram: 16gp\n",
      "camera 80mp\n",
      "price: 12000\n",
      "----------------------\n",
      "brand: apple\n",
      "battery: 4000mah\n",
      "ram: 8gp\n",
      "camera 48mp\n",
      "price: 9000\n",
      "----------------------\n",
      "brand: oneplus\n",
      "battery: 7000mah\n",
      "ram: 16gp\n",
      "camera 80mp\n",
      "price: 12000\n",
      "----------------------\n",
      "brand: apple\n",
      "battery: 4000mah\n",
      "ram: 8gp\n",
      "camera 48mp\n",
      "price: 9000\n",
      "----------------------\n",
      "brand: oneplus\n",
      "battery: 7000mah\n",
      "ram: 16gp\n",
      "camera 80mp\n",
      "price: 12000\n",
      "----------------------\n"
     ]
    }
   ],
   "source": [
    "class Mobile():\n",
    "    def __init__(self,brand,battery,ram,camera,price):\n",
    "        self.brand=brand\n",
    "        self.battery=battery\n",
    "        self.ram=ram\n",
    "        self.camera=camera\n",
    "        self.price=price\n",
    "    def display(self):\n",
    "        print(\"brand:\",self.brand)\n",
    "        print(\"battery:\",self.battery)\n",
    "        print(\"ram:\",self.ram)\n",
    "        print(\"camera\",self.camera)\n",
    "        print(\"price:\",self.price)\n",
    "        print(\"----------------------\")\n",
    "for i in range(5):\n",
    "    \n",
    "    obj=Mobile(\"apple\",\"4000mah\",\"8gp\",\"48mp\",\"9000\")\n",
    "\n",
    "    obj.display()\n",
    "    obj2=Mobile(\"oneplus\",\"7000mah\",\"16gp\",\"80mp\",\"12000\")\n",
    "    obj2.display()\n",
    "\n",
    "    "
   ]
  },
  {
   "cell_type": "code",
   "execution_count": 5,
   "metadata": {},
   "outputs": [
    {
     "name": "stdout",
     "output_type": "stream",
     "text": [
      "This is Init\n",
      "This is method:\n"
     ]
    }
   ],
   "source": [
    "class Mobile():\n",
    "    def __init__(self):\n",
    "        print(\"This is Init\")\n",
    "    def display(self):\n",
    "        print('This is method:')\n",
    "\n",
    "obj=Mobile()\n",
    "obj.display()"
   ]
  },
  {
   "cell_type": "markdown",
   "metadata": {},
   "source": [
    "2. Inheritance\n",
    "\n",
    "ClassA--------ClassB ------ Single Inheritance\n",
    "ClassA--------ClassB------- ClassC-- Multilevel Inheritance\n",
    "\n",
    "                                 ClassA\n",
    "\n",
    "                            ClassB         ClassC     Hierarchical Inheritance\n",
    "\n",
    "\n",
    "                            ClassA\n",
    "\n",
    "                    ClassB         ClassC          Multiple Inheritance"
   ]
  },
  {
   "cell_type": "code",
   "execution_count": 7,
   "metadata": {},
   "outputs": [
    {
     "name": "stdout",
     "output_type": "stream",
     "text": [
      "This is Parent class\n",
      "This is parent class\n"
     ]
    }
   ],
   "source": [
    "# 1.single Inheritance\n",
    "class Parent:\n",
    "    def fun1(self):\n",
    "        print(\"This is parent class\")\n",
    "class Child(Parent):\n",
    "    def fun2(self):\n",
    "        print(\"This is Parent class\")\n",
    "\n",
    "        # we have to create a objects in child class only because what ever there properties we are inherting from parent\n",
    "\n",
    "obj=Child()\n",
    "obj.fun2()\n",
    "obj.fun1()\n",
    "    "
   ]
  },
  {
   "cell_type": "code",
   "execution_count": 14,
   "metadata": {},
   "outputs": [
    {
     "name": "stdout",
     "output_type": "stream",
     "text": [
      "This is Child class\n",
      "This is parent class\n",
      "This is GrandChild class\n"
     ]
    }
   ],
   "source": [
    "# 2.Multilevel Inheritance\n",
    "class Parent:\n",
    "    def fun1(self):\n",
    "        print(\"This is parent class\")\n",
    "class Child(Parent):\n",
    "    def fun2(self):\n",
    "        print(\"This is Child class\")\n",
    "\n",
    "class GrandChild(Child):\n",
    "    def fun3(self):\n",
    "        print(\"This is GrandChild class\")\n",
    "\n",
    "\n",
    "        # we have to create a objects in child class only because what ever there properties we are inherting from parent\n",
    "\n",
    "obj=GrandChild()\n",
    "obj.fun2()\n",
    "obj.fun1()\n",
    "obj.fun3()\n",
    "    "
   ]
  },
  {
   "cell_type": "code",
   "execution_count": 19,
   "metadata": {},
   "outputs": [
    {
     "name": "stdout",
     "output_type": "stream",
     "text": [
      "This is parent class\n",
      "This is Child2 class\n",
      "This is Child1 class\n"
     ]
    }
   ],
   "source": [
    "#3. Hirarchical Inheritance --- One parent class two child classes its will come \n",
    "\n",
    "class Parent:\n",
    "    def fun1(self):\n",
    "        print(\"This is parent class\")\n",
    "class Child1(Parent):\n",
    "    def fun2(self):\n",
    "        print(\"This is Child1 class\")\n",
    "\n",
    "class Child2(Parent):\n",
    "    def fun3(self):\n",
    "        print(\"This is Child2 class\")\n",
    "\n",
    "\n",
    "        # we have to create a objects in child class only because what ever there properties we are inherting from parent\n",
    "\n",
    "obj=Child2()\n",
    "#obj.fun2()\n",
    "obj.fun1()\n",
    "obj.fun3() \n",
    "obj=Child1()# hire creating object separately \n",
    "obj.fun2()"
   ]
  },
  {
   "cell_type": "code",
   "execution_count": 23,
   "metadata": {},
   "outputs": [
    {
     "name": "stdout",
     "output_type": "stream",
     "text": [
      "This is Mother class\n",
      "This is Fatehr class\n",
      "This is Father,Mother class\n"
     ]
    }
   ],
   "source": [
    "#3. Multiple Inheritance --- Two parent class one child classes its will come \n",
    "\n",
    "class Father():\n",
    "    def fun1(self):\n",
    "        print(\"This is Fatehr class\")\n",
    "class Mother():\n",
    "    def fun2(self):\n",
    "        print(\"This is Mother class\")\n",
    "\n",
    "class Child(Father,Mother):\n",
    "    def fun3(self):\n",
    "        print(\"This is Father,Mother class\")\n",
    "\n",
    "\n",
    "        # we have to create a objects in child class only because what ever there properties we are inherting from parent\n",
    "\n",
    "obj=Child()\n",
    "obj.fun2()\n",
    "obj.fun1()\n",
    "obj.fun3() \n"
   ]
  },
  {
   "cell_type": "code",
   "execution_count": 25,
   "metadata": {},
   "outputs": [
    {
     "name": "stdout",
     "output_type": "stream",
     "text": [
      "This is class B\n",
      "This is class A\n"
     ]
    }
   ],
   "source": [
    "# super class------ parent class to child access the objects using super \n",
    "\n",
    "class A():\n",
    "    def __init__(self):\n",
    "        print(\"This is class A\")\n",
    "    def fun1(self):\n",
    "        print(\"This is Fatehr class\")\n",
    "class B(A):\n",
    "    def __init__(self):\n",
    "        print(\"This is class B\")\n",
    "        super().__init__()\n",
    "    def fun2(self):\n",
    "        print(\"This is Mother class\")\n",
    "\n",
    "obj=B()\n",
    "\n"
   ]
  },
  {
   "cell_type": "markdown",
   "metadata": {},
   "source": [
    "# 3. Polymorphism   multiple forms more than one form\n",
    "\n",
    "1.Compile time\n",
    "\n",
    "Method over-loading --- same class same function names but different parametars\n",
    "\n",
    "\n",
    "2.Run time\n",
    "\n",
    "\n",
    "Method over-riding ---- diffrent classes ,different parametars but same function name"
   ]
  },
  {
   "cell_type": "code",
   "execution_count": 30,
   "metadata": {},
   "outputs": [
    {
     "name": "stdout",
     "output_type": "stream",
     "text": [
      "20\n"
     ]
    }
   ],
   "source": [
    "#method oveloading- \n",
    "#same class same function names but different parametars\n",
    "\n",
    "class A():\n",
    "    def sum(self,a,b):\n",
    "        return a+b \n",
    "    def sum(self,a,b,c=1):\n",
    "        return a+b+c \n",
    "    # whom you are calling exatly not identified\n",
    "obj=A()\n",
    "print(obj.sum(5,12,3))"
   ]
  },
  {
   "cell_type": "code",
   "execution_count": 32,
   "metadata": {},
   "outputs": [
    {
     "name": "stdout",
     "output_type": "stream",
     "text": [
      "This is class B\n",
      "This is class A\n"
     ]
    }
   ],
   "source": [
    "#method overiding\n",
    "#diffrent classes ,different parametars but same function name\n",
    "class A():\n",
    "    def display(self):\n",
    "        print(\"This is class A\")\n",
    "class B(A):\n",
    "    def display(self):\n",
    "        print(\"This is class B\")\n",
    "        super().display()\n",
    "obj=B()\n",
    "obj.display()"
   ]
  },
  {
   "cell_type": "code",
   "execution_count": 36,
   "metadata": {},
   "outputs": [
    {
     "name": "stdout",
     "output_type": "stream",
     "text": [
      "Circle Information:\n",
      "Area: 78.5\n",
      "Perimeter: 31.400000000000002\n",
      "\n",
      "Square Information:\n",
      "Area: 16\n",
      "Perimeter: 16\n",
      "\n"
     ]
    }
   ],
   "source": [
    "# Abstraction----Hiding of data---- Example: ATM Mechine we cannoot see the inside functiolity \n",
    "\n",
    "from abc import ABC, abstractmethod\n",
    "\n",
    "# Abstract class representing a Shape\n",
    "class Shape(ABC):\n",
    "    @abstractmethod\n",
    "    def area(self):\n",
    "        pass\n",
    "\n",
    "    @abstractmethod\n",
    "    def perimeter(self):\n",
    "        pass\n",
    "\n",
    "# Concrete class Circle that extends Shape\n",
    "class Circle(Shape):\n",
    "    def __init__(self, radius):\n",
    "        self.radius = radius\n",
    "\n",
    "    def area(self):\n",
    "        return 3.14 * self.radius ** 2\n",
    "\n",
    "    def perimeter(self):\n",
    "        return 2 * 3.14 * self.radius\n",
    "\n",
    "# Concrete class Square that extends Shape\n",
    "class Square(Shape):\n",
    "    def __init__(self, side):\n",
    "        self.side = side\n",
    "\n",
    "    def area(self):\n",
    "        return self.side ** 2\n",
    "\n",
    "    def perimeter(self):\n",
    "        return 4 * self.side\n",
    "\n",
    "# Function to calculate and print area and perimeter of a shape\n",
    "def print_shape_info(shape):\n",
    "    print(f\"Area: {shape.area()}\")\n",
    "    print(f\"Perimeter: {shape.perimeter()}\\n\")\n",
    "\n",
    "# Example usage\n",
    "circle = Circle(radius=5)\n",
    "square = Square(side=4)\n",
    "\n",
    "# Using the abstraction to calculate and print shape information\n",
    "print(\"Circle Information:\")\n",
    "print_shape_info(circle)\n",
    "\n",
    "print(\"Square Information:\")\n",
    "print_shape_info(square)\n"
   ]
  },
  {
   "cell_type": "code",
   "execution_count": 35,
   "metadata": {},
   "outputs": [
    {
     "name": "stdout",
     "output_type": "stream",
     "text": [
      "Account Holder: John Doe\n",
      "Balance: $1000\n",
      "Deposited $500. New balance: $1500\n",
      "Withdrew $200. New balance: $1300\n"
     ]
    }
   ],
   "source": [
    "# Encapsulation ---- binding of data members and member functions \n",
    "# wrapping of variables and methods into a single unit \n",
    "# access specifiers ------ public, privete, protected \n",
    "class BankAccount:\n",
    "    def __init__(self, account_holder, balance=0):\n",
    "        self._account_holder = account_holder  # Private attribute\n",
    "        self._balance = balance  # Private attribute\n",
    "\n",
    "    # Getter methods\n",
    "    def get_account_holder(self):\n",
    "        return self._account_holder\n",
    "\n",
    "    def get_balance(self):\n",
    "        return self._balance\n",
    "\n",
    "    # Setter method\n",
    "    def deposit(self, amount):\n",
    "        if amount > 0:\n",
    "            self._balance += amount\n",
    "            print(f\"Deposited ${amount}. New balance: ${self._balance}\")\n",
    "        else:\n",
    "            print(\"Invalid deposit amount\")\n",
    "\n",
    "    def withdraw(self, amount):\n",
    "        if 0 < amount <= self._balance:\n",
    "            self._balance -= amount\n",
    "            print(f\"Withdrew ${amount}. New balance: ${self._balance}\")\n",
    "        else:\n",
    "            print(\"Invalid withdrawal amount\")\n",
    "\n",
    "# Example usage\n",
    "account1 = BankAccount(\"John Doe\", 1000)\n",
    "\n",
    "# Accessing attributes using getters\n",
    "print(f\"Account Holder: {account1.get_account_holder()}\")\n",
    "print(f\"Balance: ${account1.get_balance()}\")\n",
    "\n",
    "# Performing operations using methods\n",
    "account1.deposit(500)\n",
    "account1.withdraw(200)\n",
    "\n",
    "# Trying to access private attributes directly (will generate an error)\n",
    "# print(account1._balance)\n"
   ]
  },
  {
   "cell_type": "code",
   "execution_count": 26,
   "metadata": {},
   "outputs": [
    {
     "name": "stdout",
     "output_type": "stream",
     "text": [
      "Bark\n",
      "Meow\n"
     ]
    }
   ],
   "source": [
    "class Animal:\n",
    "    def make_sound(self):\n",
    "        print(\"Generic animal sound\")\n",
    "\n",
    "class Dog(Animal):\n",
    "    def make_sound(self):\n",
    "        print(\"Bark\")\n",
    "\n",
    "class Cat(Animal):\n",
    "    def make_sound(self):\n",
    "        print(\"Meow\")\n",
    "\n",
    "# Create instances\n",
    "dog = Dog()\n",
    "cat = Cat()\n",
    "\n",
    "# Call overridden method\n",
    "dog.make_sound()  # Output: Bark\n",
    "cat.make_sound()  # Output: Meow\n"
   ]
  },
  {
   "cell_type": "code",
   "execution_count": 33,
   "metadata": {},
   "outputs": [
    {
     "name": "stdout",
     "output_type": "stream",
     "text": [
      "1\n",
      "3\n",
      "6\n"
     ]
    }
   ],
   "source": [
    "class Calculator:\n",
    "    def add(self, a, b=None, c=None):\n",
    "        if b is not None and c is not None:\n",
    "            return a + b + c\n",
    "        elif b is not None:\n",
    "            return a + b\n",
    "        else:\n",
    "            return a\n",
    "\n",
    "# Create an instance\n",
    "calc = Calculator()\n",
    "\n",
    "# Call overloaded method\n",
    "result1 = calc.add(1)\n",
    "result2 = calc.add(1, 2)\n",
    "result3 = calc.add(1, 2, 3)\n",
    "\n",
    "print(result1)  # Output: 1\n",
    "print(result2)  # Output: 3\n",
    "print(result3)  # Output: 6\n"
   ]
  },
  {
   "cell_type": "code",
   "execution_count": 34,
   "metadata": {},
   "outputs": [
    {
     "name": "stdout",
     "output_type": "stream",
     "text": [
      "1\n",
      "3\n",
      "6\n"
     ]
    }
   ],
   "source": [
    "class Calculator:\n",
    "    def add(self, a, b=None, c=None):\n",
    "        if b is not None and c is not None:\n",
    "            return a + b + c\n",
    "        elif b is not None:\n",
    "            return a + b\n",
    "        else:\n",
    "            return a\n",
    "\n",
    "# Create an instance\n",
    "calc = Calculator()\n",
    "\n",
    "# Call overloaded method\n",
    "result1 = calc.add(1)\n",
    "result2 = calc.add(1, 2)\n",
    "result3 = calc.add(1, 2, 3)\n",
    "\n",
    "print(result1)  # Output: 1\n",
    "print(result2)  # Output: 3\n",
    "print(result3)  # Output: 6\n"
   ]
  },
  {
   "cell_type": "code",
   "execution_count": null,
   "metadata": {},
   "outputs": [],
   "source": []
  }
 ],
 "metadata": {
  "kernelspec": {
   "display_name": "base",
   "language": "python",
   "name": "python3"
  },
  "language_info": {
   "codemirror_mode": {
    "name": "ipython",
    "version": 3
   },
   "file_extension": ".py",
   "mimetype": "text/x-python",
   "name": "python",
   "nbconvert_exporter": "python",
   "pygments_lexer": "ipython3",
   "version": "3.10.9"
  }
 },
 "nbformat": 4,
 "nbformat_minor": 2
}
